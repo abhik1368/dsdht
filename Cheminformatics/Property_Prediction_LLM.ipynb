{
 "cells": [
  {
   "cell_type": "code",
   "execution_count": null,
   "metadata": {},
   "outputs": [],
   "source": [
    "import openai\n",
    "import random\n",
    "import pandas as pd\n",
    "from tqdm import tqdm\n",
    "import numpy as np\n",
    "from sklearn.metrics import f1_score,accuracy_score\n",
    "from rdkit import Chem\n",
    "from rdkit.Chem.Scaffolds import MurckoScaffold\n",
    "from rdkit.Chem import DataStructs\n",
    "from rdkit.Chem import rdMolDescriptors\n",
    "from rdkit import Chem\n",
    "import warnings\n",
    "from rdkit import RDLogger\n",
    "from steamship import Steamship\n",
    "import datetime\n",
    "import os \n",
    "from openai import OpenAI\n",
    "os.environ[\"OPENAI_API_KEY\"] = \"\"\n",
    "openai.api_key = os.getenv(\"OPENAI_API_KEY\")\n",
    "client = OpenAI(api_key=os.getenv(\"OPENAI_API_KEY\"))\n"
   ]
  },
  {
   "attachments": {},
   "cell_type": "markdown",
   "metadata": {},
   "source": [
    "Data preprocessing"
   ]
  },
  {
   "cell_type": "code",
   "execution_count": 32,
   "metadata": {},
   "outputs": [],
   "source": [
    "# random.seed(42) \n",
    "# #read bace dataset\n",
    "# bace = pd.read_csv(\"BACE.csv\")\n",
    "# sample_size = 500\n",
    "# bace_sample= bace.sample(sample_size)\n",
    "# bace.drop(bace_sample.index, inplace = True)"
   ]
  },
  {
   "cell_type": "code",
   "execution_count": 33,
   "metadata": {},
   "outputs": [
    {
     "name": "stdout",
     "output_type": "stream",
     "text": [
      "Class\n",
      "0    289\n",
      "1    211\n",
      "Name: count, dtype: int64\n"
     ]
    }
   ],
   "source": [
    "##save sampled dataset\n",
    "\n",
    "# bace_sample.to_csv(\"BACE_test.csv\",index = False)\n",
    "# bace.to_csv(\"BACE_train.csv\",index =False)\n",
    "# print(bace_sample['Class'].value_counts())"
   ]
  },
  {
   "cell_type": "code",
   "execution_count": 19,
   "metadata": {},
   "outputs": [],
   "source": [
    "def generate_response_by_gpt4(prompt, model_engine = \"gpt-4o\"):\n",
    "    completion = client.chat.completions.create(\n",
    "        model=model_engine, temperature=1, n=5, \n",
    "        messages=[{\"role\": \"user\", \"content\": prompt}],\n",
    "    )\n",
    "\n",
    "    message = completion.choices\n",
    "    message = [i.message.content.strip() for i in message]\n",
    "    return message\n",
    "\n",
    "def generate_response_by_gpt35(prompt, model_engine = \"gpt-3.5-turbo\"):\n",
    "    completion = client.chat.completions.create(\n",
    "        model=model_engine, temperature=1, n=5, \n",
    "        messages=[{\"role\": \"user\", \"content\": prompt}],\n",
    "    )\n",
    "    message = completion.choices\n",
    "    message = [i.message.content.strip() for i in message]\n",
    "    return message"
   ]
  },
  {
   "attachments": {},
   "cell_type": "markdown",
   "metadata": {},
   "source": [
    "Sampling strategy: 1. random sample, 2.scaffold sample\n"
   ]
  },
  {
   "cell_type": "code",
   "execution_count": null,
   "metadata": {},
   "outputs": [],
   "source": [
    "# random sampling\n",
    "\n",
    "from tdc.single_pred import ADME\n",
    "from tdc.single_pred import Tox\n",
    "## CYP3A4_Substrate_CarbonMangels\n",
    "data = ADME(name = 'BBB_Martins')\n",
    "split = data.get_split()\n",
    "name ='bbb' #hERG\n",
    "#data = Tox(name = name)\n",
    "split = data.get_split()\n",
    "bbb_train = split['train']\n",
    "bbb_test = split['test']\n",
    "bbb_test.rename(columns={'Y': 'Class'}, inplace=True)\n",
    "bbb_test.rename(columns={'Drug': 'mol'}, inplace=True)\n",
    "bbb_train.rename(columns={'Y': 'Class'}, inplace=True)\n",
    "bbb_train.rename(columns={'Drug': 'mol'}, inplace=True)\n",
    "\n",
    "\n",
    "def generate_response_by_gpt4(prompt, model_engine = \"gpt-4o\"):\n",
    "    completion = client.chat.completions.create(\n",
    "        model=model_engine, temperature=1, n=5, \n",
    "        messages=[{\"role\": \"user\", \"content\": prompt}],\n",
    "    )\n",
    "\n",
    "    message = completion.choices\n",
    "    message = [i.message.content.strip() for i in message]\n",
    "    return message\n",
    "\n",
    "def radom_sample_examples(data,sample_size):\n",
    "    positive_examples = data[data[\"Class\"] == 1].sample(int(sample_size/2))\n",
    "    negative_examples = data[data[\"Class\"] == 0].sample(int(sample_size/2))\n",
    "    smiles = positive_examples[\"mol\"].tolist() + negative_examples[\"mol\"].tolist()\n",
    "    \n",
    "    class_label = positive_examples[\"Class\"].tolist() + negative_examples[\"Class\"].tolist()\n",
    "    #convert 1 to \"Yes\" and 0 to \"No\"\" in class_label\n",
    "    #class_label = [\"1\" if i == 1 else \"0\" for i in class_label]\n",
    "    data_examples = list(zip(smiles, class_label))\n",
    "    return data_examples\n",
    "\n",
    "# scaffold sampling\n",
    "\n",
    "def top_k_scaffold_similar_molecules(target_smiles, _data, k):\n",
    "    #drop the target_smiles from the dataset\n",
    "    _data = _data[_data[\"mol\"] != target_smiles]\n",
    "    molecule_smiles_list = _data['mol'].tolist()\n",
    "    label_list = _data['Class'].tolist()\n",
    "    #label_list = [\"1\" if i == 1 else \"0\" for i in label_list]\n",
    "\n",
    "    target_mol = Chem.MolFromSmiles(target_smiles)\n",
    "    if target_mol is not None:\n",
    "        target_scaffold = MurckoScaffold.GetScaffoldForMol(target_mol)\n",
    "    else:\n",
    "        print(\"Error: Unable to create a molecule from the provided SMILES string.\")\n",
    "        #drop the target_smiles from the dataset\n",
    "        return None\n",
    "\n",
    "    target_fp = rdMolDescriptors.GetMorganFingerprint(target_scaffold, 2)\n",
    "    RDLogger.DisableLog('rdApp.warning')\n",
    "    warnings.filterwarnings(\"ignore\", category=UserWarning)\n",
    "    similarities = []\n",
    "    \n",
    "    for i,smiles in enumerate(molecule_smiles_list):\n",
    "        mol = Chem.MolFromSmiles(smiles)\n",
    "        try:\n",
    "            scaffold = MurckoScaffold.GetScaffoldForMol(mol)\n",
    "            scaffold_fp = rdMolDescriptors.GetMorganFingerprint(scaffold, 2)\n",
    "            tanimoto_similarity = DataStructs.TanimotoSimilarity(target_fp, scaffold_fp)\n",
    "            # print(tanimoto_similarity)\n",
    "            similarities.append((smiles, tanimoto_similarity,label_list[i]))\n",
    "        except:\n",
    "            continue\n",
    "    similarities.sort(key=lambda x: x[1], reverse=True)\n",
    "    top_similar_molecules = similarities[:k]\n",
    "    return top_similar_molecules\n",
    "\n",
    "def create_pred_prompt(input_smiles,pp_examples):\n",
    "    prompt = \"You are an expert chemist, your task is to predict the property of molecule using your experienced chemical property prediction knowledge.\\nPlease strictly follow the format, no other information can be provided. Given the SMILES string of a molecule, predict the molecular properties of a given drug SMILES string, predict whether it blocks (1) or not blocks (0). Consider factors such as molecular weight, atom count,Veber's Rule, Physicochemical Properties, bond types, and functional groups,Graph-Based Descriptors, morgan descriptors in order to assess the compound's drug-likeness and its potential to serve as an effective therapeutic agent,please answer with only 1 or 0. A few examples are provided in the beginning.\\n\"\n",
    "    for example in pp_examples:\n",
    "        prompt += f\"SMILES: {example[0]}\\n Inhibit: {example[-1]}\\n\"\n",
    "    prompt += f\"SMILES: {input_smiles}\\nInhibit:\\n\"\n",
    "    return prompt"
   ]
  },
  {
   "attachments": {},
   "cell_type": "markdown",
   "metadata": {},
   "source": [
    "Few-shot In-context Learning "
   ]
  },
  {
   "cell_type": "code",
   "execution_count": null,
   "metadata": {},
   "outputs": [
    {
     "name": "stderr",
     "output_type": "stream",
     "text": [
      "  1%|          | 1/131 [00:01<04:16,  1.98s/it]"
     ]
    },
    {
     "name": "stdout",
     "output_type": "stream",
     "text": [
      "training iterations 0\n"
     ]
    },
    {
     "name": "stderr",
     "output_type": "stream",
     "text": [
      "  2%|▏         | 2/131 [00:03<03:07,  1.45s/it]"
     ]
    },
    {
     "name": "stdout",
     "output_type": "stream",
     "text": [
      "training iterations 1\n"
     ]
    },
    {
     "name": "stderr",
     "output_type": "stream",
     "text": [
      "  2%|▏         | 3/131 [00:03<02:35,  1.21s/it]"
     ]
    },
    {
     "name": "stdout",
     "output_type": "stream",
     "text": [
      "training iterations 2\n"
     ]
    },
    {
     "name": "stderr",
     "output_type": "stream",
     "text": [
      "  3%|▎         | 4/131 [00:04<02:14,  1.06s/it]"
     ]
    },
    {
     "name": "stdout",
     "output_type": "stream",
     "text": [
      "training iterations 3\n"
     ]
    },
    {
     "name": "stderr",
     "output_type": "stream",
     "text": [
      "  4%|▍         | 5/131 [00:05<02:00,  1.05it/s]"
     ]
    },
    {
     "name": "stdout",
     "output_type": "stream",
     "text": [
      "training iterations 4\n"
     ]
    },
    {
     "name": "stderr",
     "output_type": "stream",
     "text": [
      "  5%|▍         | 6/131 [00:06<01:51,  1.12it/s]"
     ]
    },
    {
     "name": "stdout",
     "output_type": "stream",
     "text": [
      "training iterations 5\n"
     ]
    },
    {
     "name": "stderr",
     "output_type": "stream",
     "text": [
      "  5%|▌         | 7/131 [00:07<01:45,  1.18it/s]"
     ]
    },
    {
     "name": "stdout",
     "output_type": "stream",
     "text": [
      "training iterations 6\n"
     ]
    },
    {
     "name": "stderr",
     "output_type": "stream",
     "text": [
      "  6%|▌         | 8/131 [00:07<01:44,  1.17it/s]"
     ]
    },
    {
     "name": "stdout",
     "output_type": "stream",
     "text": [
      "training iterations 7\n"
     ]
    },
    {
     "name": "stderr",
     "output_type": "stream",
     "text": [
      "  7%|▋         | 9/131 [00:08<01:44,  1.17it/s]"
     ]
    },
    {
     "name": "stdout",
     "output_type": "stream",
     "text": [
      "training iterations 8\n"
     ]
    },
    {
     "name": "stderr",
     "output_type": "stream",
     "text": [
      "  8%|▊         | 10/131 [00:09<01:50,  1.10it/s]"
     ]
    },
    {
     "name": "stdout",
     "output_type": "stream",
     "text": [
      "training iterations 9\n"
     ]
    },
    {
     "name": "stderr",
     "output_type": "stream",
     "text": [
      "  8%|▊         | 11/131 [00:11<02:00,  1.01s/it]"
     ]
    },
    {
     "name": "stdout",
     "output_type": "stream",
     "text": [
      "training iterations 10\n"
     ]
    },
    {
     "name": "stderr",
     "output_type": "stream",
     "text": [
      "  9%|▉         | 12/131 [00:12<02:03,  1.04s/it]"
     ]
    },
    {
     "name": "stdout",
     "output_type": "stream",
     "text": [
      "training iterations 11\n"
     ]
    },
    {
     "name": "stderr",
     "output_type": "stream",
     "text": [
      " 10%|▉         | 13/131 [00:12<01:52,  1.05it/s]"
     ]
    },
    {
     "name": "stdout",
     "output_type": "stream",
     "text": [
      "training iterations 12\n"
     ]
    },
    {
     "name": "stderr",
     "output_type": "stream",
     "text": [
      " 11%|█         | 14/131 [00:13<01:49,  1.07it/s]"
     ]
    },
    {
     "name": "stdout",
     "output_type": "stream",
     "text": [
      "training iterations 13\n"
     ]
    },
    {
     "name": "stderr",
     "output_type": "stream",
     "text": [
      " 11%|█▏        | 15/131 [00:14<01:49,  1.06it/s]"
     ]
    },
    {
     "name": "stdout",
     "output_type": "stream",
     "text": [
      "training iterations 14\n"
     ]
    },
    {
     "name": "stderr",
     "output_type": "stream",
     "text": [
      " 12%|█▏        | 16/131 [00:16<02:01,  1.06s/it]"
     ]
    },
    {
     "name": "stdout",
     "output_type": "stream",
     "text": [
      "training iterations 15\n"
     ]
    },
    {
     "name": "stderr",
     "output_type": "stream",
     "text": [
      " 13%|█▎        | 17/131 [00:17<02:04,  1.10s/it]"
     ]
    },
    {
     "name": "stdout",
     "output_type": "stream",
     "text": [
      "training iterations 16\n"
     ]
    },
    {
     "name": "stderr",
     "output_type": "stream",
     "text": [
      " 14%|█▎        | 18/131 [00:18<02:08,  1.13s/it]"
     ]
    },
    {
     "name": "stdout",
     "output_type": "stream",
     "text": [
      "training iterations 17\n"
     ]
    },
    {
     "name": "stderr",
     "output_type": "stream",
     "text": [
      " 15%|█▍        | 19/131 [00:20<02:17,  1.23s/it]"
     ]
    },
    {
     "name": "stdout",
     "output_type": "stream",
     "text": [
      "training iterations 18\n"
     ]
    },
    {
     "name": "stderr",
     "output_type": "stream",
     "text": [
      " 15%|█▌        | 20/131 [00:22<02:44,  1.49s/it]"
     ]
    },
    {
     "name": "stdout",
     "output_type": "stream",
     "text": [
      "training iterations 19\n"
     ]
    },
    {
     "name": "stderr",
     "output_type": "stream",
     "text": [
      " 16%|█▌        | 21/131 [00:23<02:39,  1.45s/it]"
     ]
    },
    {
     "name": "stdout",
     "output_type": "stream",
     "text": [
      "training iterations 20\n"
     ]
    },
    {
     "name": "stderr",
     "output_type": "stream",
     "text": [
      " 17%|█▋        | 22/131 [00:24<02:32,  1.40s/it]"
     ]
    },
    {
     "name": "stdout",
     "output_type": "stream",
     "text": [
      "training iterations 21\n"
     ]
    },
    {
     "name": "stderr",
     "output_type": "stream",
     "text": [
      " 18%|█▊        | 23/131 [00:25<02:24,  1.33s/it]"
     ]
    },
    {
     "name": "stdout",
     "output_type": "stream",
     "text": [
      "training iterations 22\n"
     ]
    },
    {
     "name": "stderr",
     "output_type": "stream",
     "text": [
      " 18%|█▊        | 24/131 [00:32<04:58,  2.79s/it]"
     ]
    },
    {
     "name": "stdout",
     "output_type": "stream",
     "text": [
      "training iterations 23\n"
     ]
    },
    {
     "name": "stderr",
     "output_type": "stream",
     "text": [
      " 19%|█▉        | 25/131 [00:33<04:02,  2.29s/it]"
     ]
    },
    {
     "name": "stdout",
     "output_type": "stream",
     "text": [
      "training iterations 24\n"
     ]
    },
    {
     "name": "stderr",
     "output_type": "stream",
     "text": [
      " 20%|█▉        | 26/131 [00:34<03:29,  1.99s/it]"
     ]
    },
    {
     "name": "stdout",
     "output_type": "stream",
     "text": [
      "training iterations 25\n"
     ]
    },
    {
     "name": "stderr",
     "output_type": "stream",
     "text": [
      " 21%|██        | 27/131 [00:35<03:04,  1.78s/it]"
     ]
    },
    {
     "name": "stdout",
     "output_type": "stream",
     "text": [
      "training iterations 26\n"
     ]
    },
    {
     "name": "stderr",
     "output_type": "stream",
     "text": [
      " 21%|██▏       | 28/131 [00:37<02:48,  1.63s/it]"
     ]
    },
    {
     "name": "stdout",
     "output_type": "stream",
     "text": [
      "training iterations 27\n"
     ]
    },
    {
     "name": "stderr",
     "output_type": "stream",
     "text": [
      " 22%|██▏       | 29/131 [00:38<02:28,  1.45s/it]"
     ]
    },
    {
     "name": "stdout",
     "output_type": "stream",
     "text": [
      "training iterations 28\n"
     ]
    },
    {
     "name": "stderr",
     "output_type": "stream",
     "text": [
      " 23%|██▎       | 30/131 [00:39<02:18,  1.38s/it]"
     ]
    },
    {
     "name": "stdout",
     "output_type": "stream",
     "text": [
      "training iterations 29\n"
     ]
    },
    {
     "name": "stderr",
     "output_type": "stream",
     "text": [
      " 24%|██▎       | 31/131 [00:40<02:05,  1.26s/it]"
     ]
    },
    {
     "name": "stdout",
     "output_type": "stream",
     "text": [
      "training iterations 30\n"
     ]
    },
    {
     "name": "stderr",
     "output_type": "stream",
     "text": [
      " 24%|██▍       | 32/131 [00:41<01:58,  1.20s/it]"
     ]
    },
    {
     "name": "stdout",
     "output_type": "stream",
     "text": [
      "training iterations 31\n"
     ]
    },
    {
     "name": "stderr",
     "output_type": "stream",
     "text": [
      " 25%|██▌       | 33/131 [00:42<01:56,  1.19s/it]"
     ]
    },
    {
     "name": "stdout",
     "output_type": "stream",
     "text": [
      "training iterations 32\n"
     ]
    },
    {
     "name": "stderr",
     "output_type": "stream",
     "text": [
      " 26%|██▌       | 34/131 [00:43<02:02,  1.26s/it]"
     ]
    },
    {
     "name": "stdout",
     "output_type": "stream",
     "text": [
      "training iterations 33\n"
     ]
    },
    {
     "name": "stderr",
     "output_type": "stream",
     "text": [
      " 27%|██▋       | 35/131 [00:51<04:48,  3.00s/it]"
     ]
    },
    {
     "name": "stdout",
     "output_type": "stream",
     "text": [
      "training iterations 34\n"
     ]
    },
    {
     "name": "stderr",
     "output_type": "stream",
     "text": [
      " 27%|██▋       | 36/131 [00:52<04:03,  2.57s/it]"
     ]
    },
    {
     "name": "stdout",
     "output_type": "stream",
     "text": [
      "training iterations 35\n"
     ]
    },
    {
     "name": "stderr",
     "output_type": "stream",
     "text": [
      " 28%|██▊       | 37/131 [00:54<03:37,  2.32s/it]"
     ]
    },
    {
     "name": "stdout",
     "output_type": "stream",
     "text": [
      "training iterations 36\n"
     ]
    },
    {
     "name": "stderr",
     "output_type": "stream",
     "text": [
      " 29%|██▉       | 38/131 [00:55<03:11,  2.06s/it]"
     ]
    },
    {
     "name": "stdout",
     "output_type": "stream",
     "text": [
      "training iterations 37\n"
     ]
    },
    {
     "name": "stderr",
     "output_type": "stream",
     "text": [
      " 30%|██▉       | 39/131 [00:57<02:55,  1.90s/it]"
     ]
    },
    {
     "name": "stdout",
     "output_type": "stream",
     "text": [
      "training iterations 38\n"
     ]
    },
    {
     "name": "stderr",
     "output_type": "stream",
     "text": [
      " 31%|███       | 40/131 [00:58<02:33,  1.69s/it]"
     ]
    },
    {
     "name": "stdout",
     "output_type": "stream",
     "text": [
      "training iterations 39\n"
     ]
    },
    {
     "name": "stderr",
     "output_type": "stream",
     "text": [
      " 31%|███▏      | 41/131 [00:59<02:24,  1.60s/it]"
     ]
    },
    {
     "name": "stdout",
     "output_type": "stream",
     "text": [
      "training iterations 40\n"
     ]
    },
    {
     "name": "stderr",
     "output_type": "stream",
     "text": [
      " 32%|███▏      | 42/131 [01:01<02:14,  1.51s/it]"
     ]
    },
    {
     "name": "stdout",
     "output_type": "stream",
     "text": [
      "training iterations 41\n"
     ]
    },
    {
     "name": "stderr",
     "output_type": "stream",
     "text": [
      " 33%|███▎      | 43/131 [01:02<02:15,  1.54s/it]"
     ]
    },
    {
     "name": "stdout",
     "output_type": "stream",
     "text": [
      "training iterations 42\n"
     ]
    },
    {
     "name": "stderr",
     "output_type": "stream",
     "text": [
      " 34%|███▎      | 44/131 [01:04<02:08,  1.48s/it]"
     ]
    },
    {
     "name": "stdout",
     "output_type": "stream",
     "text": [
      "training iterations 43\n"
     ]
    },
    {
     "name": "stderr",
     "output_type": "stream",
     "text": [
      " 34%|███▍      | 45/131 [01:05<02:08,  1.50s/it]"
     ]
    },
    {
     "name": "stdout",
     "output_type": "stream",
     "text": [
      "training iterations 44\n"
     ]
    },
    {
     "name": "stderr",
     "output_type": "stream",
     "text": [
      " 35%|███▌      | 46/131 [01:07<02:07,  1.50s/it]"
     ]
    },
    {
     "name": "stdout",
     "output_type": "stream",
     "text": [
      "training iterations 45\n"
     ]
    },
    {
     "name": "stderr",
     "output_type": "stream",
     "text": [
      " 36%|███▌      | 47/131 [01:08<02:00,  1.43s/it]"
     ]
    },
    {
     "name": "stdout",
     "output_type": "stream",
     "text": [
      "training iterations 46\n"
     ]
    },
    {
     "name": "stderr",
     "output_type": "stream",
     "text": [
      " 37%|███▋      | 48/131 [01:09<01:59,  1.44s/it]"
     ]
    },
    {
     "name": "stdout",
     "output_type": "stream",
     "text": [
      "training iterations 47\n"
     ]
    },
    {
     "name": "stderr",
     "output_type": "stream",
     "text": [
      " 37%|███▋      | 49/131 [01:11<01:58,  1.45s/it]"
     ]
    },
    {
     "name": "stdout",
     "output_type": "stream",
     "text": [
      "training iterations 48\n"
     ]
    },
    {
     "name": "stderr",
     "output_type": "stream",
     "text": [
      " 38%|███▊      | 50/131 [01:12<01:48,  1.34s/it]"
     ]
    },
    {
     "name": "stdout",
     "output_type": "stream",
     "text": [
      "training iterations 49\n"
     ]
    },
    {
     "name": "stderr",
     "output_type": "stream",
     "text": [
      " 39%|███▉      | 51/131 [01:13<01:47,  1.34s/it]"
     ]
    },
    {
     "name": "stdout",
     "output_type": "stream",
     "text": [
      "training iterations 50\n"
     ]
    },
    {
     "name": "stderr",
     "output_type": "stream",
     "text": [
      " 40%|███▉      | 52/131 [01:15<01:50,  1.40s/it]"
     ]
    },
    {
     "name": "stdout",
     "output_type": "stream",
     "text": [
      "training iterations 51\n"
     ]
    },
    {
     "name": "stderr",
     "output_type": "stream",
     "text": [
      " 40%|████      | 53/131 [01:16<01:46,  1.37s/it]"
     ]
    },
    {
     "name": "stdout",
     "output_type": "stream",
     "text": [
      "training iterations 52\n"
     ]
    },
    {
     "name": "stderr",
     "output_type": "stream",
     "text": [
      " 41%|████      | 54/131 [01:18<02:00,  1.57s/it]"
     ]
    },
    {
     "name": "stdout",
     "output_type": "stream",
     "text": [
      "training iterations 53\n"
     ]
    },
    {
     "name": "stderr",
     "output_type": "stream",
     "text": [
      " 42%|████▏     | 55/131 [01:24<03:31,  2.79s/it]"
     ]
    },
    {
     "name": "stdout",
     "output_type": "stream",
     "text": [
      "training iterations 54\n"
     ]
    },
    {
     "name": "stderr",
     "output_type": "stream",
     "text": [
      " 43%|████▎     | 56/131 [01:25<02:52,  2.31s/it]"
     ]
    },
    {
     "name": "stdout",
     "output_type": "stream",
     "text": [
      "training iterations 55\n"
     ]
    },
    {
     "name": "stderr",
     "output_type": "stream",
     "text": [
      " 44%|████▎     | 57/131 [01:26<02:26,  1.98s/it]"
     ]
    },
    {
     "name": "stdout",
     "output_type": "stream",
     "text": [
      "training iterations 56\n"
     ]
    },
    {
     "name": "stderr",
     "output_type": "stream",
     "text": [
      " 44%|████▍     | 58/131 [01:28<02:10,  1.79s/it]"
     ]
    },
    {
     "name": "stdout",
     "output_type": "stream",
     "text": [
      "training iterations 57\n"
     ]
    },
    {
     "name": "stderr",
     "output_type": "stream",
     "text": [
      " 45%|████▌     | 59/131 [01:29<02:00,  1.68s/it]"
     ]
    },
    {
     "name": "stdout",
     "output_type": "stream",
     "text": [
      "training iterations 58\n"
     ]
    },
    {
     "name": "stderr",
     "output_type": "stream",
     "text": [
      " 46%|████▌     | 60/131 [01:30<01:53,  1.59s/it]"
     ]
    },
    {
     "name": "stdout",
     "output_type": "stream",
     "text": [
      "training iterations 59\n"
     ]
    },
    {
     "name": "stderr",
     "output_type": "stream",
     "text": [
      " 47%|████▋     | 61/131 [01:32<01:44,  1.50s/it]"
     ]
    },
    {
     "name": "stdout",
     "output_type": "stream",
     "text": [
      "training iterations 60\n"
     ]
    },
    {
     "name": "stderr",
     "output_type": "stream",
     "text": [
      " 47%|████▋     | 62/131 [01:33<01:34,  1.37s/it]"
     ]
    },
    {
     "name": "stdout",
     "output_type": "stream",
     "text": [
      "training iterations 61\n"
     ]
    },
    {
     "name": "stderr",
     "output_type": "stream",
     "text": [
      " 48%|████▊     | 63/131 [01:34<01:35,  1.40s/it]"
     ]
    },
    {
     "name": "stdout",
     "output_type": "stream",
     "text": [
      "training iterations 62\n"
     ]
    },
    {
     "name": "stderr",
     "output_type": "stream",
     "text": [
      " 49%|████▉     | 64/131 [01:36<01:33,  1.39s/it]"
     ]
    },
    {
     "name": "stdout",
     "output_type": "stream",
     "text": [
      "training iterations 63\n"
     ]
    },
    {
     "name": "stderr",
     "output_type": "stream",
     "text": [
      " 50%|████▉     | 65/131 [01:37<01:32,  1.40s/it]"
     ]
    },
    {
     "name": "stdout",
     "output_type": "stream",
     "text": [
      "training iterations 64\n"
     ]
    },
    {
     "name": "stderr",
     "output_type": "stream",
     "text": [
      " 50%|█████     | 66/131 [01:39<01:32,  1.43s/it]"
     ]
    },
    {
     "name": "stdout",
     "output_type": "stream",
     "text": [
      "training iterations 65\n"
     ]
    },
    {
     "name": "stderr",
     "output_type": "stream",
     "text": [
      " 51%|█████     | 67/131 [01:40<01:30,  1.41s/it]"
     ]
    },
    {
     "name": "stdout",
     "output_type": "stream",
     "text": [
      "training iterations 66\n"
     ]
    },
    {
     "name": "stderr",
     "output_type": "stream",
     "text": [
      " 52%|█████▏    | 68/131 [01:42<01:34,  1.50s/it]"
     ]
    },
    {
     "name": "stdout",
     "output_type": "stream",
     "text": [
      "training iterations 67\n"
     ]
    },
    {
     "name": "stderr",
     "output_type": "stream",
     "text": [
      " 53%|█████▎    | 69/131 [01:43<01:30,  1.46s/it]"
     ]
    },
    {
     "name": "stdout",
     "output_type": "stream",
     "text": [
      "training iterations 68\n"
     ]
    },
    {
     "name": "stderr",
     "output_type": "stream",
     "text": [
      " 53%|█████▎    | 70/131 [01:44<01:23,  1.37s/it]"
     ]
    },
    {
     "name": "stdout",
     "output_type": "stream",
     "text": [
      "training iterations 69\n"
     ]
    },
    {
     "name": "stderr",
     "output_type": "stream",
     "text": [
      " 54%|█████▍    | 71/131 [01:46<01:23,  1.40s/it]"
     ]
    },
    {
     "name": "stdout",
     "output_type": "stream",
     "text": [
      "training iterations 70\n"
     ]
    },
    {
     "name": "stderr",
     "output_type": "stream",
     "text": [
      " 55%|█████▍    | 72/131 [01:47<01:19,  1.35s/it]"
     ]
    },
    {
     "name": "stdout",
     "output_type": "stream",
     "text": [
      "training iterations 71\n"
     ]
    },
    {
     "name": "stderr",
     "output_type": "stream",
     "text": [
      " 56%|█████▌    | 73/131 [01:48<01:15,  1.31s/it]"
     ]
    },
    {
     "name": "stdout",
     "output_type": "stream",
     "text": [
      "training iterations 72\n"
     ]
    },
    {
     "name": "stderr",
     "output_type": "stream",
     "text": [
      " 56%|█████▋    | 74/131 [01:50<01:18,  1.37s/it]"
     ]
    },
    {
     "name": "stdout",
     "output_type": "stream",
     "text": [
      "training iterations 73\n"
     ]
    },
    {
     "name": "stderr",
     "output_type": "stream",
     "text": [
      " 57%|█████▋    | 75/131 [01:51<01:25,  1.53s/it]"
     ]
    },
    {
     "name": "stdout",
     "output_type": "stream",
     "text": [
      "training iterations 74\n"
     ]
    },
    {
     "name": "stderr",
     "output_type": "stream",
     "text": [
      " 58%|█████▊    | 76/131 [01:53<01:22,  1.50s/it]"
     ]
    },
    {
     "name": "stdout",
     "output_type": "stream",
     "text": [
      "training iterations 75\n"
     ]
    },
    {
     "name": "stderr",
     "output_type": "stream",
     "text": [
      " 59%|█████▉    | 77/131 [01:54<01:22,  1.53s/it]"
     ]
    },
    {
     "name": "stdout",
     "output_type": "stream",
     "text": [
      "training iterations 76\n"
     ]
    },
    {
     "name": "stderr",
     "output_type": "stream",
     "text": [
      " 60%|█████▉    | 78/131 [01:56<01:15,  1.43s/it]"
     ]
    },
    {
     "name": "stdout",
     "output_type": "stream",
     "text": [
      "training iterations 77\n"
     ]
    },
    {
     "name": "stderr",
     "output_type": "stream",
     "text": [
      " 60%|██████    | 79/131 [01:57<01:11,  1.37s/it]"
     ]
    },
    {
     "name": "stdout",
     "output_type": "stream",
     "text": [
      "training iterations 78\n"
     ]
    },
    {
     "name": "stderr",
     "output_type": "stream",
     "text": [
      " 61%|██████    | 80/131 [01:58<01:13,  1.44s/it]"
     ]
    },
    {
     "name": "stdout",
     "output_type": "stream",
     "text": [
      "training iterations 79\n"
     ]
    },
    {
     "name": "stderr",
     "output_type": "stream",
     "text": [
      " 62%|██████▏   | 81/131 [02:00<01:13,  1.47s/it]"
     ]
    },
    {
     "name": "stdout",
     "output_type": "stream",
     "text": [
      "training iterations 80\n"
     ]
    },
    {
     "name": "stderr",
     "output_type": "stream",
     "text": [
      " 63%|██████▎   | 82/131 [02:02<01:14,  1.51s/it]"
     ]
    },
    {
     "name": "stdout",
     "output_type": "stream",
     "text": [
      "training iterations 81\n"
     ]
    },
    {
     "name": "stderr",
     "output_type": "stream",
     "text": [
      " 63%|██████▎   | 83/131 [02:04<01:17,  1.62s/it]"
     ]
    },
    {
     "name": "stdout",
     "output_type": "stream",
     "text": [
      "training iterations 82\n"
     ]
    },
    {
     "name": "stderr",
     "output_type": "stream",
     "text": [
      " 64%|██████▍   | 84/131 [02:05<01:11,  1.53s/it]"
     ]
    },
    {
     "name": "stdout",
     "output_type": "stream",
     "text": [
      "training iterations 83\n"
     ]
    },
    {
     "name": "stderr",
     "output_type": "stream",
     "text": [
      " 65%|██████▍   | 85/131 [02:06<01:07,  1.46s/it]"
     ]
    },
    {
     "name": "stdout",
     "output_type": "stream",
     "text": [
      "training iterations 84\n"
     ]
    },
    {
     "name": "stderr",
     "output_type": "stream",
     "text": [
      " 66%|██████▌   | 86/131 [02:07<01:03,  1.42s/it]"
     ]
    },
    {
     "name": "stdout",
     "output_type": "stream",
     "text": [
      "training iterations 85\n"
     ]
    },
    {
     "name": "stderr",
     "output_type": "stream",
     "text": [
      " 66%|██████▋   | 87/131 [02:09<01:01,  1.40s/it]"
     ]
    },
    {
     "name": "stdout",
     "output_type": "stream",
     "text": [
      "training iterations 86\n"
     ]
    },
    {
     "name": "stderr",
     "output_type": "stream",
     "text": [
      " 67%|██████▋   | 88/131 [02:10<01:01,  1.44s/it]"
     ]
    },
    {
     "name": "stdout",
     "output_type": "stream",
     "text": [
      "training iterations 87\n"
     ]
    },
    {
     "name": "stderr",
     "output_type": "stream",
     "text": [
      " 68%|██████▊   | 89/131 [02:12<00:56,  1.35s/it]"
     ]
    },
    {
     "name": "stdout",
     "output_type": "stream",
     "text": [
      "training iterations 88\n"
     ]
    },
    {
     "name": "stderr",
     "output_type": "stream",
     "text": [
      " 69%|██████▊   | 90/131 [02:13<00:58,  1.42s/it]"
     ]
    },
    {
     "name": "stdout",
     "output_type": "stream",
     "text": [
      "training iterations 89\n"
     ]
    },
    {
     "name": "stderr",
     "output_type": "stream",
     "text": [
      " 69%|██████▉   | 91/131 [02:15<00:58,  1.46s/it]"
     ]
    },
    {
     "name": "stdout",
     "output_type": "stream",
     "text": [
      "training iterations 90\n"
     ]
    },
    {
     "name": "stderr",
     "output_type": "stream",
     "text": [
      " 70%|███████   | 92/131 [02:16<00:59,  1.52s/it]"
     ]
    },
    {
     "name": "stdout",
     "output_type": "stream",
     "text": [
      "training iterations 91\n"
     ]
    },
    {
     "name": "stderr",
     "output_type": "stream",
     "text": [
      " 71%|███████   | 93/131 [02:18<01:00,  1.60s/it]"
     ]
    },
    {
     "name": "stdout",
     "output_type": "stream",
     "text": [
      "training iterations 92\n"
     ]
    },
    {
     "name": "stderr",
     "output_type": "stream",
     "text": [
      " 72%|███████▏  | 94/131 [02:19<00:56,  1.53s/it]"
     ]
    },
    {
     "name": "stdout",
     "output_type": "stream",
     "text": [
      "training iterations 93\n"
     ]
    },
    {
     "name": "stderr",
     "output_type": "stream",
     "text": [
      " 73%|███████▎  | 95/131 [02:21<00:58,  1.63s/it]"
     ]
    },
    {
     "name": "stdout",
     "output_type": "stream",
     "text": [
      "training iterations 94\n"
     ]
    },
    {
     "name": "stderr",
     "output_type": "stream",
     "text": [
      " 73%|███████▎  | 96/131 [02:23<00:57,  1.63s/it]"
     ]
    },
    {
     "name": "stdout",
     "output_type": "stream",
     "text": [
      "training iterations 95\n"
     ]
    },
    {
     "name": "stderr",
     "output_type": "stream",
     "text": [
      " 74%|███████▍  | 97/131 [02:25<00:55,  1.63s/it]"
     ]
    },
    {
     "name": "stdout",
     "output_type": "stream",
     "text": [
      "training iterations 96\n"
     ]
    },
    {
     "name": "stderr",
     "output_type": "stream",
     "text": [
      " 75%|███████▍  | 98/131 [02:26<00:54,  1.64s/it]"
     ]
    },
    {
     "name": "stdout",
     "output_type": "stream",
     "text": [
      "training iterations 97\n"
     ]
    },
    {
     "name": "stderr",
     "output_type": "stream",
     "text": [
      " 76%|███████▌  | 99/131 [02:28<00:53,  1.67s/it]"
     ]
    },
    {
     "name": "stdout",
     "output_type": "stream",
     "text": [
      "training iterations 98\n"
     ]
    },
    {
     "name": "stderr",
     "output_type": "stream",
     "text": [
      " 76%|███████▋  | 100/131 [02:30<00:53,  1.72s/it]"
     ]
    },
    {
     "name": "stdout",
     "output_type": "stream",
     "text": [
      "training iterations 99\n"
     ]
    },
    {
     "name": "stderr",
     "output_type": "stream",
     "text": [
      " 77%|███████▋  | 101/131 [02:32<00:51,  1.73s/it]"
     ]
    },
    {
     "name": "stdout",
     "output_type": "stream",
     "text": [
      "training iterations 100\n"
     ]
    },
    {
     "name": "stderr",
     "output_type": "stream",
     "text": [
      " 78%|███████▊  | 102/131 [02:33<00:46,  1.60s/it]"
     ]
    },
    {
     "name": "stdout",
     "output_type": "stream",
     "text": [
      "training iterations 101\n"
     ]
    },
    {
     "name": "stderr",
     "output_type": "stream",
     "text": [
      " 79%|███████▊  | 103/131 [02:34<00:40,  1.46s/it]"
     ]
    },
    {
     "name": "stdout",
     "output_type": "stream",
     "text": [
      "training iterations 102\n"
     ]
    },
    {
     "name": "stderr",
     "output_type": "stream",
     "text": [
      " 79%|███████▉  | 104/131 [02:35<00:37,  1.38s/it]"
     ]
    },
    {
     "name": "stdout",
     "output_type": "stream",
     "text": [
      "training iterations 103\n"
     ]
    },
    {
     "name": "stderr",
     "output_type": "stream",
     "text": [
      " 80%|████████  | 105/131 [02:37<00:36,  1.41s/it]"
     ]
    },
    {
     "name": "stdout",
     "output_type": "stream",
     "text": [
      "training iterations 104\n"
     ]
    },
    {
     "name": "stderr",
     "output_type": "stream",
     "text": [
      " 81%|████████  | 106/131 [02:38<00:35,  1.42s/it]"
     ]
    },
    {
     "name": "stdout",
     "output_type": "stream",
     "text": [
      "training iterations 105\n"
     ]
    },
    {
     "name": "stderr",
     "output_type": "stream",
     "text": [
      " 82%|████████▏ | 107/131 [02:40<00:34,  1.45s/it]"
     ]
    },
    {
     "name": "stdout",
     "output_type": "stream",
     "text": [
      "training iterations 106\n"
     ]
    },
    {
     "name": "stderr",
     "output_type": "stream",
     "text": [
      " 82%|████████▏ | 108/131 [02:41<00:34,  1.50s/it]"
     ]
    },
    {
     "name": "stdout",
     "output_type": "stream",
     "text": [
      "training iterations 107\n"
     ]
    },
    {
     "name": "stderr",
     "output_type": "stream",
     "text": [
      " 83%|████████▎ | 109/131 [02:43<00:31,  1.43s/it]"
     ]
    },
    {
     "name": "stdout",
     "output_type": "stream",
     "text": [
      "training iterations 108\n"
     ]
    },
    {
     "name": "stderr",
     "output_type": "stream",
     "text": [
      " 84%|████████▍ | 110/131 [02:44<00:28,  1.37s/it]"
     ]
    },
    {
     "name": "stdout",
     "output_type": "stream",
     "text": [
      "training iterations 109\n"
     ]
    },
    {
     "name": "stderr",
     "output_type": "stream",
     "text": [
      " 85%|████████▍ | 111/131 [02:45<00:27,  1.36s/it]"
     ]
    },
    {
     "name": "stdout",
     "output_type": "stream",
     "text": [
      "training iterations 110\n"
     ]
    },
    {
     "name": "stderr",
     "output_type": "stream",
     "text": [
      " 85%|████████▌ | 112/131 [02:46<00:25,  1.36s/it]"
     ]
    },
    {
     "name": "stdout",
     "output_type": "stream",
     "text": [
      "training iterations 111\n"
     ]
    },
    {
     "name": "stderr",
     "output_type": "stream",
     "text": [
      " 86%|████████▋ | 113/131 [02:48<00:24,  1.37s/it]"
     ]
    },
    {
     "name": "stdout",
     "output_type": "stream",
     "text": [
      "training iterations 112\n"
     ]
    },
    {
     "name": "stderr",
     "output_type": "stream",
     "text": [
      " 87%|████████▋ | 114/131 [02:49<00:24,  1.45s/it]"
     ]
    },
    {
     "name": "stdout",
     "output_type": "stream",
     "text": [
      "training iterations 113\n"
     ]
    },
    {
     "name": "stderr",
     "output_type": "stream",
     "text": [
      " 88%|████████▊ | 115/131 [02:51<00:24,  1.53s/it]"
     ]
    },
    {
     "name": "stdout",
     "output_type": "stream",
     "text": [
      "training iterations 114\n"
     ]
    },
    {
     "name": "stderr",
     "output_type": "stream",
     "text": [
      " 89%|████████▊ | 116/131 [02:52<00:21,  1.45s/it]"
     ]
    },
    {
     "name": "stdout",
     "output_type": "stream",
     "text": [
      "training iterations 115\n"
     ]
    },
    {
     "name": "stderr",
     "output_type": "stream",
     "text": [
      " 89%|████████▉ | 117/131 [02:54<00:21,  1.53s/it]"
     ]
    },
    {
     "name": "stdout",
     "output_type": "stream",
     "text": [
      "training iterations 116\n"
     ]
    },
    {
     "name": "stderr",
     "output_type": "stream",
     "text": [
      " 90%|█████████ | 118/131 [02:56<00:19,  1.52s/it]"
     ]
    },
    {
     "name": "stdout",
     "output_type": "stream",
     "text": [
      "training iterations 117\n"
     ]
    },
    {
     "name": "stderr",
     "output_type": "stream",
     "text": [
      " 91%|█████████ | 119/131 [02:57<00:18,  1.57s/it]"
     ]
    },
    {
     "name": "stdout",
     "output_type": "stream",
     "text": [
      "training iterations 118\n"
     ]
    },
    {
     "name": "stderr",
     "output_type": "stream",
     "text": [
      " 92%|█████████▏| 120/131 [02:59<00:17,  1.60s/it]"
     ]
    },
    {
     "name": "stdout",
     "output_type": "stream",
     "text": [
      "training iterations 119\n"
     ]
    },
    {
     "name": "stderr",
     "output_type": "stream",
     "text": [
      " 92%|█████████▏| 121/131 [03:01<00:15,  1.58s/it]"
     ]
    },
    {
     "name": "stdout",
     "output_type": "stream",
     "text": [
      "training iterations 120\n"
     ]
    },
    {
     "name": "stderr",
     "output_type": "stream",
     "text": [
      " 93%|█████████▎| 122/131 [03:02<00:13,  1.46s/it]"
     ]
    },
    {
     "name": "stdout",
     "output_type": "stream",
     "text": [
      "training iterations 121\n"
     ]
    },
    {
     "name": "stderr",
     "output_type": "stream",
     "text": [
      " 94%|█████████▍| 123/131 [03:03<00:12,  1.54s/it]"
     ]
    },
    {
     "name": "stdout",
     "output_type": "stream",
     "text": [
      "training iterations 122\n"
     ]
    },
    {
     "name": "stderr",
     "output_type": "stream",
     "text": [
      " 95%|█████████▍| 124/131 [03:05<00:10,  1.45s/it]"
     ]
    },
    {
     "name": "stdout",
     "output_type": "stream",
     "text": [
      "training iterations 123\n"
     ]
    },
    {
     "name": "stderr",
     "output_type": "stream",
     "text": [
      " 95%|█████████▌| 125/131 [03:06<00:08,  1.41s/it]"
     ]
    },
    {
     "name": "stdout",
     "output_type": "stream",
     "text": [
      "training iterations 124\n"
     ]
    },
    {
     "name": "stderr",
     "output_type": "stream",
     "text": [
      " 96%|█████████▌| 126/131 [03:07<00:06,  1.35s/it]"
     ]
    },
    {
     "name": "stdout",
     "output_type": "stream",
     "text": [
      "training iterations 125\n"
     ]
    },
    {
     "name": "stderr",
     "output_type": "stream",
     "text": [
      " 97%|█████████▋| 127/131 [03:09<00:05,  1.35s/it]"
     ]
    },
    {
     "name": "stdout",
     "output_type": "stream",
     "text": [
      "training iterations 126\n"
     ]
    },
    {
     "name": "stderr",
     "output_type": "stream",
     "text": [
      " 98%|█████████▊| 128/131 [03:10<00:03,  1.33s/it]"
     ]
    },
    {
     "name": "stdout",
     "output_type": "stream",
     "text": [
      "training iterations 127\n"
     ]
    },
    {
     "name": "stderr",
     "output_type": "stream",
     "text": [
      " 98%|█████████▊| 129/131 [03:11<00:02,  1.33s/it]"
     ]
    },
    {
     "name": "stdout",
     "output_type": "stream",
     "text": [
      "training iterations 128\n"
     ]
    },
    {
     "name": "stderr",
     "output_type": "stream",
     "text": [
      " 99%|█████████▉| 130/131 [03:12<00:01,  1.23s/it]"
     ]
    },
    {
     "name": "stdout",
     "output_type": "stream",
     "text": [
      "training iterations 129\n"
     ]
    },
    {
     "name": "stderr",
     "output_type": "stream",
     "text": [
      "100%|██████████| 131/131 [03:13<00:00,  1.48s/it]"
     ]
    },
    {
     "name": "stdout",
     "output_type": "stream",
     "text": [
      "training iterations 130\n"
     ]
    },
    {
     "name": "stderr",
     "output_type": "stream",
     "text": [
      "\n"
     ]
    }
   ],
   "source": [
    "\n",
    "from tdc.single_pred import ADME\n",
    "from tdc.single_pred import Tox\n",
    "## CYP3A4_Substrate_CarbonMangels\n",
    "data = ADME(name = 'BBB_Martins')\n",
    "split = data.get_split()\n",
    "name ='bbb' #hERG\n",
    "#data = Tox(name = name)\n",
    "split = data.get_split()\n",
    "bbb_train = split['train']\n",
    "bbb_test = split['test']\n",
    "bbb_test.rename(columns={'Y': 'Class'}, inplace=True)\n",
    "bbb_test.rename(columns={'Drug': 'mol'}, inplace=True)\n",
    "bbb_train.rename(columns={'Y': 'Class'}, inplace=True)\n",
    "bbb_train.rename(columns={'Drug': 'mol'}, inplace=True)\n",
    "\n",
    "\n",
    "def generate_response_by_gpt4(prompt, model_engine = \"gpt-4o\"):\n",
    "    completion = client.chat.completions.create(\n",
    "        model=model_engine, temperature=1, n=5, \n",
    "        messages=[{\"role\": \"user\", \"content\": prompt}],\n",
    "    )\n",
    "\n",
    "    message = completion.choices\n",
    "    message = [i.message.content.strip() for i in message]\n",
    "    return message\n",
    "\n",
    "def radom_sample_examples(data,sample_size):\n",
    "    positive_examples = data[data[\"Class\"] == 1].sample(int(sample_size/2))\n",
    "    negative_examples = data[data[\"Class\"] == 0].sample(int(sample_size/2))\n",
    "    smiles = positive_examples[\"mol\"].tolist() + negative_examples[\"mol\"].tolist()\n",
    "    \n",
    "    class_label = positive_examples[\"Class\"].tolist() + negative_examples[\"Class\"].tolist()\n",
    "    #convert 1 to \"Yes\" and 0 to \"No\"\" in class_label\n",
    "    #class_label = [\"1\" if i == 1 else \"0\" for i in class_label]\n",
    "    data_examples = list(zip(smiles, class_label))\n",
    "    return data_examples\n",
    "\n",
    "# scaffold sampling\n",
    "\n",
    "def top_k_scaffold_similar_molecules(target_smiles, _data, k):\n",
    "    #drop the target_smiles from the dataset\n",
    "    _data = _data[_data[\"mol\"] != target_smiles]\n",
    "    molecule_smiles_list = _data['mol'].tolist()\n",
    "    label_list = _data['Class'].tolist()\n",
    "    #label_list = [\"1\" if i == 1 else \"0\" for i in label_list]\n",
    "\n",
    "    target_mol = Chem.MolFromSmiles(target_smiles)\n",
    "    if target_mol is not None:\n",
    "        target_scaffold = MurckoScaffold.GetScaffoldForMol(target_mol)\n",
    "    else:\n",
    "        print(\"Error: Unable to create a molecule from the provided SMILES string.\")\n",
    "        #drop the target_smiles from the dataset\n",
    "        return None\n",
    "\n",
    "    target_fp = rdMolDescriptors.GetMorganFingerprint(target_scaffold, 2)\n",
    "    RDLogger.DisableLog('rdApp.warning')\n",
    "    warnings.filterwarnings(\"ignore\", category=UserWarning)\n",
    "    similarities = []\n",
    "    \n",
    "    for i,smiles in enumerate(molecule_smiles_list):\n",
    "        mol = Chem.MolFromSmiles(smiles)\n",
    "        try:\n",
    "            scaffold = MurckoScaffold.GetScaffoldForMol(mol)\n",
    "            scaffold_fp = rdMolDescriptors.GetMorganFingerprint(scaffold, 2)\n",
    "            tanimoto_similarity = DataStructs.TanimotoSimilarity(target_fp, scaffold_fp)\n",
    "            # print(tanimoto_similarity)\n",
    "            similarities.append((smiles, tanimoto_similarity,label_list[i]))\n",
    "        except:\n",
    "            continue\n",
    "    similarities.sort(key=lambda x: x[1], reverse=True)\n",
    "    top_similar_molecules = similarities[:k]\n",
    "    return top_similar_molecules\n",
    "\n",
    "def create_pred_prompt(input_smiles,pp_examples):\n",
    "    prompt = \"You are an expert chemist, your task is to predict the property of molecule using your experienced chemical property prediction knowledge.\\nPlease strictly follow the format, no other information can be provided. Given the SMILES string of a molecule, predict the molecular properties of a given drug SMILES string, predict whether it blocks (1) or not blocks (0). Consider factors such as molecular weight, atom count,Veber's Rule, Physicochemical Properties, bond types, and functional groups,Graph-Based Descriptors, morgan descriptors in order to assess the compound's drug-likeness and its potential to serve as an effective therapeutic agent,please answer with only 1 or 0. A few examples are provided in the beginning.\\n\"\n",
    "    for example in pp_examples:\n",
    "        prompt += f\"SMILES: {example[0]}\\n Inhibit: {example[-1]}\\n\"\n",
    "    prompt += f\"SMILES: {input_smiles}\\nInhibit:\\n\"\n",
    "    return prompt\n",
    "\n",
    "model_engine = ['gpt-4o']\n",
    "sample_nums = [100]\n",
    "sample_methods = ['scaffold']\n",
    "detail_save_folder = '' # path to save the generated result \n",
    "paras = 0\n",
    "for sample_method in sample_methods:\n",
    "    for sample_num in sample_nums:\n",
    "        for model in model_engine:\n",
    "            if paras < 0:\n",
    "                paras += 1\n",
    "                continue\n",
    "            detail_predict_file = detail_save_folder + 'test_{}_{}_{}_{}.csv'.format(name, model, sample_num, sample_method)\n",
    "            log_file = detail_save_folder + 'test_{}_{}_{}_{}.log'.format(name, model, sample_num, sample_method)\n",
    "            \n",
    "            if os.path.exists(detail_predict_file):\n",
    "                detail_results = pd.read_csv(detail_predict_file)\n",
    "                #convert the column to list\n",
    "                detail_results = detail_results.values.tolist()\n",
    "            else:\n",
    "                detail_results = []\n",
    "                \n",
    "                \n",
    "            now = datetime.datetime.now()\n",
    "            date_time_str = now.strftime(\"%Y-%m-%d %H:%M:%S\")\n",
    "            with open(log_file, \"a\") as file:\n",
    "                file.write(\"=\" * 30 + date_time_str + \"=\" * 30 + \"\\n\")\n",
    "                \n",
    "            if sample_method == 'random':\n",
    "                para_index = 0 \n",
    "                mol_examples = radom_sample_examples(bbb_train,sample_num)\n",
    "                for i in tqdm(range(0, len(bbb_test))):\n",
    "                    if para_index < 0:\n",
    "                        para_index += 1\n",
    "                        continue\n",
    "                    example = [(bbb_test.iloc[i]['mol'],bbb_test.iloc[i]['Class'])]\n",
    "                    pred_y = []\n",
    "                    generated_results = []\n",
    "                    for text in example:\n",
    "                        prompt = create_pred_prompt(text[0], mol_examples)\n",
    "                        with open(log_file, \"a\") as file:\n",
    "                            file.write(prompt + \"\\n\")\n",
    "                            file.write(\"=\" * 50 + \"\\n\")\n",
    "                        if model == 'gpt-3.5-turbo':\n",
    "                            generated_p = generate_response_by_gpt35(prompt)\n",
    "                        elif model == 'gpt-4o':\n",
    "                            generated_p = generate_response_by_gpt4(prompt)\n",
    "                        generated_results.append(generated_p)\n",
    "                        detail_results.append([text[0]] + [text[-1]] + generated_p)\n",
    "                        \n",
    "                        print('training iterations',i)\n",
    "                        if (i+1) % 10 == 0:\n",
    "                            details_df = pd.DataFrame(detail_results, columns=['smiles', 'class_label', 'pred_1', 'pred_2', 'pred_3', 'pred_4', 'pred_5'])\n",
    "                            details_df.to_csv(detail_predict_file, index=False)\n",
    "                            print('save file')\n",
    "                details_df = pd.DataFrame(detail_results, columns=['smiles', 'class_label', 'pred_1', 'pred_2', 'pred_3', 'pred_4', 'pred_5'])\n",
    "                details_df.to_csv(detail_predict_file, index=False)\n",
    "            \n",
    "            elif sample_method == 'scaffold':\n",
    "                para_index = 0\n",
    "                for i in tqdm(range(0, len(bbb_test))):\n",
    "                    example = [(bbb_test.iloc[i]['mol'],bbb_test.iloc[i]['Class'])]\n",
    "                    pred_y = []\n",
    "                    generated_results = []\n",
    "                    # print(para_index)\n",
    "                    if para_index < 0:\n",
    "                        para_index += 1\n",
    "                        continue\n",
    "                    for text in example:\n",
    "                        mol_examples = top_k_scaffold_similar_molecules(text[0], bbb_train, sample_num)\n",
    "                        prompt = create_pred_prompt(text[0],mol_examples)\n",
    "                        # print(prompt)\n",
    "                        with open(log_file, \"a\") as file:\n",
    "                            file.write(prompt + \"\\n\")\n",
    "                            file.write(\"=\" * 50 + \"\\n\")\n",
    "                        if model == 'gpt-3.5-turbo':\n",
    "                            generated_p = generate_response_by_gpt35(prompt)\n",
    "                        elif model == 'gpt-4o':\n",
    "                            generated_p = generate_response_by_gpt4(prompt)                \n",
    "                        generated_results.append(generated_p)\n",
    "                        detail_results.append([text[0]] + [text[-1]] + generated_p)\n",
    "                        \n",
    "                        print('training iterations',i)\n",
    "                        if (i+1) % 10 == 0:\n",
    "                            details_df = pd.DataFrame(detail_results, columns=['smiles', 'class_label', 'pred_1', 'pred_2', 'pred_3', 'pred_4', 'pred_5'])\n",
    "                            details_df.to_csv(detail_predict_file, index=False)\n",
    "                details_df = pd.DataFrame(detail_results, columns=['smiles', 'class_label', 'pred_1', 'pred_2', 'pred_3', 'pred_4', 'pred_5'])\n",
    "                details_df.to_csv(detail_predict_file, index=False)"
   ]
  },
  {
   "cell_type": "code",
   "execution_count": 24,
   "metadata": {},
   "outputs": [
    {
     "name": "stdout",
     "output_type": "stream",
     "text": [
      "                                              smiles  class_label  pred_1  \\\n",
      "0  Cc1c(O)cccc1C(=O)N[C@@H](CSc1ccccc1)[C@H](O)C[...          1.0     1.0   \n",
      "1  CN(CCN(C)S(=O)(=O)c1ccc(NS(C)(=O)=O)cc1)c1nc2c...          1.0     1.0   \n",
      "2  C=C1C[C@]23C[C@H]4[C@H]5[C@]67C[C@@H](OC(C)=O)...          0.0     0.0   \n",
      "3  CCOc1cc(N)c(Cl)cc1C(=O)NC[C@@H]1C[NH+](Cc2ccc(...          1.0     1.0   \n",
      "4           COc1ccc(CNC(=O)c2cc3cc(Cl)ccc3o2)c(OC)c1          1.0     0.0   \n",
      "\n",
      "   pred_2  pred_3  pred_4  pred_5  \n",
      "0     0.0     0.0     1.0     0.0  \n",
      "1     1.0     1.0     1.0     1.0  \n",
      "2     0.0     1.0     1.0     0.0  \n",
      "3     1.0     1.0     1.0     1.0  \n",
      "4     0.0     0.0     0.0     0.0  \n",
      "Metrics saved to metrics_hERG_gpt-4o_100_scaffold.txt\n"
     ]
    }
   ],
   "source": [
    "import os\n",
    "import pandas as pd\n",
    "from sklearn.metrics import accuracy_score, precision_score, recall_score, roc_auc_score, f1_score\n",
    "# name ='DILI'\n",
    "# sample_methods = ['scaffold']\n",
    "# sample_nums = [100]\n",
    "model_engine = ['gpt-4o']\n",
    "detail_save_folder =''\n",
    "# Function to calculate metrics\n",
    "def calculate_metrics(y_true, y_pred):\n",
    "    \"\"\"\n",
    "    Calculate Accuracy, Precision, Recall, ROC AUC, and F1 Score.\n",
    "    \"\"\"\n",
    "    metrics = {}\n",
    "    metrics['Accuracy'] = accuracy_score(y_true, y_pred)\n",
    "    metrics['Precision'] = precision_score(y_true, y_pred, zero_division=0)\n",
    "    metrics['Recall'] = recall_score(y_true, y_pred, zero_division=0)\n",
    "    metrics['ROC AUC'] = roc_auc_score(y_true, y_pred)\n",
    "    metrics['F1 Score'] = f1_score(y_true, y_pred)\n",
    "    return metrics\n",
    "\n",
    "# Iterate over sample methods and calculate metrics\n",
    "for sample_method in sample_methods:\n",
    "    for sample_num in sample_nums:\n",
    "        for model in model_engine:\n",
    "            detail_predict_file = detail_save_folder + 'test_{}_{}_{}_{}.csv'.format(name, model, sample_num, sample_method)\n",
    "            metrics_file = detail_save_folder + 'metrics_{}_{}_{}_{}.txt'.format(name, model, sample_num, sample_method)\n",
    "            if os.path.exists(detail_predict_file):\n",
    "                # Load the DataFrame\n",
    "                details_df = pd.read_csv(detail_predict_file)\n",
    "                print(details_df.head(5))\n",
    "                df = details_df.replace({\"Yes\": 1, \"No\": 0})\n",
    "                df[['class_label', 'pred_1', 'pred_2', 'pred_3', 'pred_4', 'pred_5']] = df[['class_label', 'pred_1', 'pred_2', 'pred_3', 'pred_4', 'pred_5']].apply(pd.to_numeric)\n",
    "                # Open the metrics file for writing\n",
    "                with open(metrics_file, 'w') as f:\n",
    "                    f.write(f\"Metrics for {detail_predict_file}\\n\")\n",
    "                    f.write(\"=\" * 50 + \"\\n\")\n",
    "\n",
    "                    # Iterate over prediction columns\n",
    "                    for pred_col in ['pred_1', 'pred_2', 'pred_3', 'pred_4', 'pred_5']:\n",
    "                        f.write(f\"Metrics for {pred_col}:\\n\")\n",
    "\n",
    "                        # Calculate metrics\n",
    "                        y_true = details_df['class_label']\n",
    "                        y_pred = details_df[pred_col]\n",
    "                        metrics = calculate_metrics(y_true, y_pred)\n",
    "\n",
    "                        # Write metrics to the file\n",
    "                        for metric_name, metric_value in metrics.items():\n",
    "                            f.write(f\"{metric_name}: {metric_value:.4f}\\n\")\n",
    "                        f.write(\"\\n\")\n",
    "\n",
    "                    f.write(\"=\" * 50 + \"\\n\")\n",
    "                print(f\"Metrics saved to {metrics_file}\")"
   ]
  }
 ],
 "metadata": {
  "kernelspec": {
   "display_name": "rdkit",
   "language": "python",
   "name": "python3"
  },
  "language_info": {
   "codemirror_mode": {
    "name": "ipython",
    "version": 3
   },
   "file_extension": ".py",
   "mimetype": "text/x-python",
   "name": "python",
   "nbconvert_exporter": "python",
   "pygments_lexer": "ipython3",
   "version": "3.10.14"
  },
  "orig_nbformat": 4
 },
 "nbformat": 4,
 "nbformat_minor": 2
}
