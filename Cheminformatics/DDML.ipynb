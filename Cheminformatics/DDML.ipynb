{
 "cells": [
  {
   "cell_type": "markdown",
   "metadata": {},
   "source": [
    "### Introduction"
   ]
  },
  {
   "cell_type": "markdown",
   "metadata": {},
   "source": [
    "This notebook focuses on predicting drug-target binding affinity using Neural Networks, a critical task in computational drug discovery. By leveraging deep learning techniques, we aim to accurately estimate the binding strength between drugs and their target proteins, facilitating the identification of potential therapeutic compounds. The workflow includes data preprocessing, model training, evaluation, and performance visualization. This approach offers a scalable and efficient alternative to traditional experimental methods, accelerating the drug discovery pipeline."
   ]
  },
  {
   "cell_type": "markdown",
   "metadata": {},
   "source": [
    "### Import and Setup Packages "
   ]
  },
  {
   "cell_type": "code",
   "execution_count": 2,
   "metadata": {},
   "outputs": [
    {
     "name": "stdout",
     "output_type": "stream",
     "text": [
      "Defaulting to user installation because normal site-packages is not writeable\n",
      "Collecting rdkit\n",
      "  Downloading rdkit-2024.9.4-cp311-cp311-manylinux_2_28_x86_64.whl (34.2 MB)\n",
      "\u001b[2K     \u001b[38;2;114;156;31m━━━━━━━━━━━━━━━━━━━━━━━━━━━━━━━━━━━━━━━━\u001b[0m \u001b[32m34.2/34.2 MB\u001b[0m \u001b[31m35.8 MB/s\u001b[0m eta \u001b[36m0:00:00\u001b[0mm eta \u001b[36m0:00:01\u001b[0m[36m0:00:01\u001b[0m\n",
      "\u001b[?25hRequirement already satisfied: numpy in /N/soft/rhel8/python/gnu/3.11.4/lib/python3.11/site-packages (from rdkit) (1.23.5)\n",
      "Requirement already satisfied: Pillow in /N/soft/rhel8/python/gnu/3.11.4/lib/python3.11/site-packages (from rdkit) (10.0.0)\n",
      "Installing collected packages: rdkit\n",
      "Successfully installed rdkit-2024.9.4\n"
     ]
    }
   ],
   "source": [
    "!pip install rdkit"
   ]
  },
  {
   "cell_type": "code",
   "execution_count": 3,
   "metadata": {},
   "outputs": [],
   "source": [
    "import pandas as pd\n",
    "import numpy as np\n",
    "import random\n",
    "\n",
    "import matplotlib.pyplot as plt\n",
    "import seaborn as sns\n",
    "\n",
    "from rdkit import Chem\n",
    "from rdkit.Chem import AllChem, rdFingerprintGenerator\n",
    "from rdkit.Chem.Scaffolds import MurckoScaffold\n",
    "from sklearn.metrics import mean_squared_error, mean_absolute_error\n",
    "from sklearn.model_selection import train_test_split\n",
    "\n",
    "import torch  # PyTorch library for tensor computations and neural networks\n",
    "import torch.nn as nn  # Neural network modules\n",
    "import torch.nn.functional as F\n",
    "import torch.optim as optim  # Optimization algorithms\n",
    "from torch.optim.lr_scheduler import ReduceLROnPlateau\n",
    "from torch.utils.data import Dataset, DataLoader  # For handling datasets and data loading"
   ]
  },
  {
   "cell_type": "code",
   "execution_count": 4,
   "metadata": {},
   "outputs": [],
   "source": [
    "import logging\n",
    "logging.basicConfig(level=logging.INFO, format='%(asctime)s - %(levelname)s - %(message)s')\n",
    "logger = logging.getLogger(__name__)"
   ]
  },
  {
   "cell_type": "code",
   "execution_count": 5,
   "metadata": {},
   "outputs": [],
   "source": [
    "colors = [\"#A20025\", \"#6C8EBF\", \"#21130d\"]\n",
    "sns.set_palette(sns.color_palette(colors))"
   ]
  },
  {
   "cell_type": "code",
   "execution_count": 6,
   "metadata": {},
   "outputs": [
    {
     "data": {
      "text/plain": [
       "'2.4.1+cu121'"
      ]
     },
     "execution_count": 6,
     "metadata": {},
     "output_type": "execute_result"
    }
   ],
   "source": [
    "torch.__version__"
   ]
  },
  {
   "cell_type": "code",
   "execution_count": 7,
   "metadata": {},
   "outputs": [
    {
     "data": {
      "text/plain": [
       "False"
      ]
     },
     "execution_count": 7,
     "metadata": {},
     "output_type": "execute_result"
    }
   ],
   "source": [
    "torch.cuda.is_available()"
   ]
  },
  {
   "cell_type": "code",
   "execution_count": 9,
   "metadata": {},
   "outputs": [],
   "source": [
    "# Set random seeds for deterministic resuluts\n",
    "def seed(seed=121):\n",
    "    random.seed(seed)\n",
    "    np.random.seed(seed)\n",
    "    torch.manual_seed(seed)\n",
    "    torch.cuda.manual_seed(seed)\n",
    "    torch.cuda.manual_seed_all(seed)\n",
    "    torch.backends.cudnn.deterministic = True\n",
    "    torch.backends.cudnn.benchmark = False\n",
    "\n",
    "seed()"
   ]
  },
  {
   "cell_type": "markdown",
   "metadata": {},
   "source": [
    "## Ligand-based VS with PyTorch\n",
    "\n",
    "###  First PyTorch Model"
   ]
  },
  {
   "cell_type": "code",
   "execution_count": 19,
   "metadata": {},
   "outputs": [],
   "source": [
    "_bace_data= pd.read_csv(\"bace.csv\")"
   ]
  },
  {
   "cell_type": "code",
   "execution_count": 20,
   "metadata": {},
   "outputs": [
    {
     "data": {
      "text/html": [
       "<div>\n",
       "<style scoped>\n",
       "    .dataframe tbody tr th:only-of-type {\n",
       "        vertical-align: middle;\n",
       "    }\n",
       "\n",
       "    .dataframe tbody tr th {\n",
       "        vertical-align: top;\n",
       "    }\n",
       "\n",
       "    .dataframe thead th {\n",
       "        text-align: right;\n",
       "    }\n",
       "</style>\n",
       "<table border=\"1\" class=\"dataframe\">\n",
       "  <thead>\n",
       "    <tr style=\"text-align: right;\">\n",
       "      <th></th>\n",
       "      <th>mol</th>\n",
       "      <th>CID</th>\n",
       "      <th>Class</th>\n",
       "      <th>Model</th>\n",
       "      <th>pIC50</th>\n",
       "      <th>MW</th>\n",
       "      <th>AlogP</th>\n",
       "      <th>HBA</th>\n",
       "      <th>HBD</th>\n",
       "      <th>RB</th>\n",
       "      <th>...</th>\n",
       "      <th>PEOE6 (PEOE6)</th>\n",
       "      <th>PEOE7 (PEOE7)</th>\n",
       "      <th>PEOE8 (PEOE8)</th>\n",
       "      <th>PEOE9 (PEOE9)</th>\n",
       "      <th>PEOE10 (PEOE10)</th>\n",
       "      <th>PEOE11 (PEOE11)</th>\n",
       "      <th>PEOE12 (PEOE12)</th>\n",
       "      <th>PEOE13 (PEOE13)</th>\n",
       "      <th>PEOE14 (PEOE14)</th>\n",
       "      <th>canvasUID</th>\n",
       "    </tr>\n",
       "  </thead>\n",
       "  <tbody>\n",
       "    <tr>\n",
       "      <th>0</th>\n",
       "      <td>O1CC[C@@H](NC(=O)[C@@H](Cc2cc3cc(ccc3nc2N)-c2c...</td>\n",
       "      <td>BACE_1</td>\n",
       "      <td>1</td>\n",
       "      <td>Train</td>\n",
       "      <td>9.154901</td>\n",
       "      <td>431.56979</td>\n",
       "      <td>4.4014</td>\n",
       "      <td>3</td>\n",
       "      <td>2</td>\n",
       "      <td>5</td>\n",
       "      <td>...</td>\n",
       "      <td>53.205711</td>\n",
       "      <td>78.640335</td>\n",
       "      <td>226.85541</td>\n",
       "      <td>107.43491</td>\n",
       "      <td>37.133846</td>\n",
       "      <td>0.000000</td>\n",
       "      <td>7.980170</td>\n",
       "      <td>0.0</td>\n",
       "      <td>0.000000</td>\n",
       "      <td>1</td>\n",
       "    </tr>\n",
       "    <tr>\n",
       "      <th>1</th>\n",
       "      <td>Fc1cc(cc(F)c1)C[C@H](NC(=O)[C@@H](N1CC[C@](NC(...</td>\n",
       "      <td>BACE_2</td>\n",
       "      <td>1</td>\n",
       "      <td>Train</td>\n",
       "      <td>8.853872</td>\n",
       "      <td>657.81073</td>\n",
       "      <td>2.6412</td>\n",
       "      <td>5</td>\n",
       "      <td>4</td>\n",
       "      <td>16</td>\n",
       "      <td>...</td>\n",
       "      <td>73.817162</td>\n",
       "      <td>47.171600</td>\n",
       "      <td>365.67694</td>\n",
       "      <td>174.07675</td>\n",
       "      <td>34.923889</td>\n",
       "      <td>7.980170</td>\n",
       "      <td>24.148668</td>\n",
       "      <td>0.0</td>\n",
       "      <td>24.663788</td>\n",
       "      <td>2</td>\n",
       "    </tr>\n",
       "    <tr>\n",
       "      <th>2</th>\n",
       "      <td>S1(=O)(=O)N(c2cc(cc3c2n(cc3CC)CC1)C(=O)N[C@H](...</td>\n",
       "      <td>BACE_3</td>\n",
       "      <td>1</td>\n",
       "      <td>Train</td>\n",
       "      <td>8.698970</td>\n",
       "      <td>591.74091</td>\n",
       "      <td>2.5499</td>\n",
       "      <td>4</td>\n",
       "      <td>3</td>\n",
       "      <td>11</td>\n",
       "      <td>...</td>\n",
       "      <td>70.365707</td>\n",
       "      <td>47.941147</td>\n",
       "      <td>192.40652</td>\n",
       "      <td>255.75255</td>\n",
       "      <td>23.654478</td>\n",
       "      <td>0.230159</td>\n",
       "      <td>15.879790</td>\n",
       "      <td>0.0</td>\n",
       "      <td>24.663788</td>\n",
       "      <td>3</td>\n",
       "    </tr>\n",
       "    <tr>\n",
       "      <th>3</th>\n",
       "      <td>S1(=O)(=O)C[C@@H](Cc2cc(O[C@H](COCC)C(F)(F)F)c...</td>\n",
       "      <td>BACE_4</td>\n",
       "      <td>1</td>\n",
       "      <td>Train</td>\n",
       "      <td>8.698970</td>\n",
       "      <td>591.67828</td>\n",
       "      <td>3.1680</td>\n",
       "      <td>4</td>\n",
       "      <td>3</td>\n",
       "      <td>12</td>\n",
       "      <td>...</td>\n",
       "      <td>56.657166</td>\n",
       "      <td>37.954151</td>\n",
       "      <td>194.35304</td>\n",
       "      <td>202.76335</td>\n",
       "      <td>36.498634</td>\n",
       "      <td>0.980913</td>\n",
       "      <td>8.188327</td>\n",
       "      <td>0.0</td>\n",
       "      <td>26.385181</td>\n",
       "      <td>4</td>\n",
       "    </tr>\n",
       "    <tr>\n",
       "      <th>4</th>\n",
       "      <td>S1(=O)(=O)N(c2cc(cc3c2n(cc3CC)CC1)C(=O)N[C@H](...</td>\n",
       "      <td>BACE_5</td>\n",
       "      <td>1</td>\n",
       "      <td>Train</td>\n",
       "      <td>8.698970</td>\n",
       "      <td>629.71283</td>\n",
       "      <td>3.5086</td>\n",
       "      <td>3</td>\n",
       "      <td>3</td>\n",
       "      <td>11</td>\n",
       "      <td>...</td>\n",
       "      <td>78.945702</td>\n",
       "      <td>39.361153</td>\n",
       "      <td>179.71288</td>\n",
       "      <td>220.46130</td>\n",
       "      <td>23.654478</td>\n",
       "      <td>0.230159</td>\n",
       "      <td>15.879790</td>\n",
       "      <td>0.0</td>\n",
       "      <td>26.100143</td>\n",
       "      <td>5</td>\n",
       "    </tr>\n",
       "  </tbody>\n",
       "</table>\n",
       "<p>5 rows × 595 columns</p>\n",
       "</div>"
      ],
      "text/plain": [
       "                                                 mol     CID  Class  Model  \\\n",
       "0  O1CC[C@@H](NC(=O)[C@@H](Cc2cc3cc(ccc3nc2N)-c2c...  BACE_1      1  Train   \n",
       "1  Fc1cc(cc(F)c1)C[C@H](NC(=O)[C@@H](N1CC[C@](NC(...  BACE_2      1  Train   \n",
       "2  S1(=O)(=O)N(c2cc(cc3c2n(cc3CC)CC1)C(=O)N[C@H](...  BACE_3      1  Train   \n",
       "3  S1(=O)(=O)C[C@@H](Cc2cc(O[C@H](COCC)C(F)(F)F)c...  BACE_4      1  Train   \n",
       "4  S1(=O)(=O)N(c2cc(cc3c2n(cc3CC)CC1)C(=O)N[C@H](...  BACE_5      1  Train   \n",
       "\n",
       "      pIC50         MW   AlogP  HBA  HBD  RB  ...  PEOE6 (PEOE6)  \\\n",
       "0  9.154901  431.56979  4.4014    3    2   5  ...      53.205711   \n",
       "1  8.853872  657.81073  2.6412    5    4  16  ...      73.817162   \n",
       "2  8.698970  591.74091  2.5499    4    3  11  ...      70.365707   \n",
       "3  8.698970  591.67828  3.1680    4    3  12  ...      56.657166   \n",
       "4  8.698970  629.71283  3.5086    3    3  11  ...      78.945702   \n",
       "\n",
       "   PEOE7 (PEOE7)  PEOE8 (PEOE8)  PEOE9 (PEOE9)  PEOE10 (PEOE10)  \\\n",
       "0      78.640335      226.85541      107.43491        37.133846   \n",
       "1      47.171600      365.67694      174.07675        34.923889   \n",
       "2      47.941147      192.40652      255.75255        23.654478   \n",
       "3      37.954151      194.35304      202.76335        36.498634   \n",
       "4      39.361153      179.71288      220.46130        23.654478   \n",
       "\n",
       "   PEOE11 (PEOE11)  PEOE12 (PEOE12)  PEOE13 (PEOE13)  PEOE14 (PEOE14)  \\\n",
       "0         0.000000         7.980170              0.0         0.000000   \n",
       "1         7.980170        24.148668              0.0        24.663788   \n",
       "2         0.230159        15.879790              0.0        24.663788   \n",
       "3         0.980913         8.188327              0.0        26.385181   \n",
       "4         0.230159        15.879790              0.0        26.100143   \n",
       "\n",
       "   canvasUID  \n",
       "0          1  \n",
       "1          2  \n",
       "2          3  \n",
       "3          4  \n",
       "4          5  \n",
       "\n",
       "[5 rows x 595 columns]"
      ]
     },
     "execution_count": 20,
     "metadata": {},
     "output_type": "execute_result"
    }
   ],
   "source": [
    "_bace_data.head()"
   ]
  },
  {
   "cell_type": "code",
   "execution_count": 21,
   "metadata": {},
   "outputs": [
    {
     "data": {
      "text/plain": [
       "Index(['mol', 'CID', 'Class', 'Model', 'pIC50', 'MW', 'AlogP', 'HBA', 'HBD',\n",
       "       'RB',\n",
       "       ...\n",
       "       'PEOE6 (PEOE6)', 'PEOE7 (PEOE7)', 'PEOE8 (PEOE8)', 'PEOE9 (PEOE9)',\n",
       "       'PEOE10 (PEOE10)', 'PEOE11 (PEOE11)', 'PEOE12 (PEOE12)',\n",
       "       'PEOE13 (PEOE13)', 'PEOE14 (PEOE14)', 'canvasUID'],\n",
       "      dtype='object', length=595)"
      ]
     },
     "execution_count": 21,
     "metadata": {},
     "output_type": "execute_result"
    }
   ],
   "source": [
    "_bace_data.columns"
   ]
  },
  {
   "cell_type": "code",
   "execution_count": 22,
   "metadata": {},
   "outputs": [
    {
     "data": {
      "text/html": [
       "<div>\n",
       "<style scoped>\n",
       "    .dataframe tbody tr th:only-of-type {\n",
       "        vertical-align: middle;\n",
       "    }\n",
       "\n",
       "    .dataframe tbody tr th {\n",
       "        vertical-align: top;\n",
       "    }\n",
       "\n",
       "    .dataframe thead th {\n",
       "        text-align: right;\n",
       "    }\n",
       "</style>\n",
       "<table border=\"1\" class=\"dataframe\">\n",
       "  <thead>\n",
       "    <tr style=\"text-align: right;\">\n",
       "      <th></th>\n",
       "      <th>mol</th>\n",
       "      <th>pIC50</th>\n",
       "    </tr>\n",
       "  </thead>\n",
       "  <tbody>\n",
       "    <tr>\n",
       "      <th>0</th>\n",
       "      <td>O1CC[C@@H](NC(=O)[C@@H](Cc2cc3cc(ccc3nc2N)-c2c...</td>\n",
       "      <td>9.154901</td>\n",
       "    </tr>\n",
       "    <tr>\n",
       "      <th>1</th>\n",
       "      <td>Fc1cc(cc(F)c1)C[C@H](NC(=O)[C@@H](N1CC[C@](NC(...</td>\n",
       "      <td>8.853872</td>\n",
       "    </tr>\n",
       "    <tr>\n",
       "      <th>2</th>\n",
       "      <td>S1(=O)(=O)N(c2cc(cc3c2n(cc3CC)CC1)C(=O)N[C@H](...</td>\n",
       "      <td>8.698970</td>\n",
       "    </tr>\n",
       "    <tr>\n",
       "      <th>3</th>\n",
       "      <td>S1(=O)(=O)C[C@@H](Cc2cc(O[C@H](COCC)C(F)(F)F)c...</td>\n",
       "      <td>8.698970</td>\n",
       "    </tr>\n",
       "    <tr>\n",
       "      <th>4</th>\n",
       "      <td>S1(=O)(=O)N(c2cc(cc3c2n(cc3CC)CC1)C(=O)N[C@H](...</td>\n",
       "      <td>8.698970</td>\n",
       "    </tr>\n",
       "    <tr>\n",
       "      <th>5</th>\n",
       "      <td>S1(=O)C[C@@H](Cc2cc(OC(C(F)(F)F)C(F)(F)F)c(N)c...</td>\n",
       "      <td>8.698970</td>\n",
       "    </tr>\n",
       "    <tr>\n",
       "      <th>6</th>\n",
       "      <td>S(=O)(=O)(CCCCC)C[C@@H](NC(=O)c1cccnc1)C(=O)N[...</td>\n",
       "      <td>8.698970</td>\n",
       "    </tr>\n",
       "    <tr>\n",
       "      <th>7</th>\n",
       "      <td>Fc1c2c(ccc1)[C@@]([NH+]=C2N)(C=1C=C(C)C(=O)N(C...</td>\n",
       "      <td>8.612610</td>\n",
       "    </tr>\n",
       "    <tr>\n",
       "      <th>8</th>\n",
       "      <td>O1c2c(cc(cc2)CC)[C@@H]([NH2+]C[C@@H](O)[C@H]2N...</td>\n",
       "      <td>8.602060</td>\n",
       "    </tr>\n",
       "    <tr>\n",
       "      <th>9</th>\n",
       "      <td>O=C1N(CCCC1)C(C)(C)[C@@H]1C[C@@H](CCC1)C(=O)N[...</td>\n",
       "      <td>8.602060</td>\n",
       "    </tr>\n",
       "  </tbody>\n",
       "</table>\n",
       "</div>"
      ],
      "text/plain": [
       "                                                 mol     pIC50\n",
       "0  O1CC[C@@H](NC(=O)[C@@H](Cc2cc3cc(ccc3nc2N)-c2c...  9.154901\n",
       "1  Fc1cc(cc(F)c1)C[C@H](NC(=O)[C@@H](N1CC[C@](NC(...  8.853872\n",
       "2  S1(=O)(=O)N(c2cc(cc3c2n(cc3CC)CC1)C(=O)N[C@H](...  8.698970\n",
       "3  S1(=O)(=O)C[C@@H](Cc2cc(O[C@H](COCC)C(F)(F)F)c...  8.698970\n",
       "4  S1(=O)(=O)N(c2cc(cc3c2n(cc3CC)CC1)C(=O)N[C@H](...  8.698970\n",
       "5  S1(=O)C[C@@H](Cc2cc(OC(C(F)(F)F)C(F)(F)F)c(N)c...  8.698970\n",
       "6  S(=O)(=O)(CCCCC)C[C@@H](NC(=O)c1cccnc1)C(=O)N[...  8.698970\n",
       "7  Fc1c2c(ccc1)[C@@]([NH+]=C2N)(C=1C=C(C)C(=O)N(C...  8.612610\n",
       "8  O1c2c(cc(cc2)CC)[C@@H]([NH2+]C[C@@H](O)[C@H]2N...  8.602060\n",
       "9  O=C1N(CCCC1)C(C)(C)[C@@H]1C[C@@H](CCC1)C(=O)N[...  8.602060"
      ]
     },
     "execution_count": 22,
     "metadata": {},
     "output_type": "execute_result"
    }
   ],
   "source": [
    "# Keep necessary columns\n",
    "_bace_data = egfr_kinodata[[\"mol\", \"pIC50\"]]\n",
    "_bace_data.head(10)"
   ]
  },
  {
   "cell_type": "code",
   "execution_count": 23,
   "metadata": {},
   "outputs": [
    {
     "data": {
      "text/html": [
       "<div>\n",
       "<style scoped>\n",
       "    .dataframe tbody tr th:only-of-type {\n",
       "        vertical-align: middle;\n",
       "    }\n",
       "\n",
       "    .dataframe tbody tr th {\n",
       "        vertical-align: top;\n",
       "    }\n",
       "\n",
       "    .dataframe thead th {\n",
       "        text-align: right;\n",
       "    }\n",
       "</style>\n",
       "<table border=\"1\" class=\"dataframe\">\n",
       "  <thead>\n",
       "    <tr style=\"text-align: right;\">\n",
       "      <th></th>\n",
       "      <th>pIC50</th>\n",
       "    </tr>\n",
       "  </thead>\n",
       "  <tbody>\n",
       "    <tr>\n",
       "      <th>count</th>\n",
       "      <td>1513.000000</td>\n",
       "    </tr>\n",
       "    <tr>\n",
       "      <th>mean</th>\n",
       "      <td>6.521991</td>\n",
       "    </tr>\n",
       "    <tr>\n",
       "      <th>std</th>\n",
       "      <td>1.342417</td>\n",
       "    </tr>\n",
       "    <tr>\n",
       "      <th>min</th>\n",
       "      <td>2.544546</td>\n",
       "    </tr>\n",
       "    <tr>\n",
       "      <th>25%</th>\n",
       "      <td>5.585027</td>\n",
       "    </tr>\n",
       "    <tr>\n",
       "      <th>50%</th>\n",
       "      <td>6.761954</td>\n",
       "    </tr>\n",
       "    <tr>\n",
       "      <th>75%</th>\n",
       "      <td>7.540000</td>\n",
       "    </tr>\n",
       "    <tr>\n",
       "      <th>max</th>\n",
       "      <td>10.522879</td>\n",
       "    </tr>\n",
       "  </tbody>\n",
       "</table>\n",
       "</div>"
      ],
      "text/plain": [
       "             pIC50\n",
       "count  1513.000000\n",
       "mean      6.521991\n",
       "std       1.342417\n",
       "min       2.544546\n",
       "25%       5.585027\n",
       "50%       6.761954\n",
       "75%       7.540000\n",
       "max      10.522879"
      ]
     },
     "execution_count": 23,
     "metadata": {},
     "output_type": "execute_result"
    }
   ],
   "source": [
    "_bace_data.describe()"
   ]
  },
  {
   "cell_type": "code",
   "execution_count": 24,
   "metadata": {},
   "outputs": [],
   "source": [
    "smiles, activities = _bace_data[\"mol\"], _bace_data[\"pIC50\"]"
   ]
  },
  {
   "cell_type": "code",
   "execution_count": 25,
   "metadata": {},
   "outputs": [],
   "source": [
    "# Scaffold split\n",
    "def scaffold_split(smiles, activities, test_size=0.2, random_state=42):\n",
    "    mols, filtered_smiles = [], []\n",
    "    for s in smiles:\n",
    "        try:\n",
    "            mols.append(Chem.MolFromSmiles(s))\n",
    "            filtered_smiles.append(s)\n",
    "        except:\n",
    "            continue\n",
    "\n",
    "    scaffolds = {}\n",
    "    for i, mol in enumerate(mols):\n",
    "        scaffold = MurckoScaffold.MurckoScaffoldSmiles(mol=mol, includeChirality=True)\n",
    "        if scaffold not in scaffolds:\n",
    "            scaffolds[scaffold] = [i]\n",
    "        else:\n",
    "            scaffolds[scaffold].append(i)\n",
    "    \n",
    "    scaffold_sets = list(scaffolds.values())\n",
    "    train_idx, test_idx = train_test_split(scaffold_sets, test_size=test_size, random_state=random_state)\n",
    "    \n",
    "    train_idx = [idx for set_idx in train_idx for idx in set_idx]\n",
    "    test_idx = [idx for set_idx in test_idx for idx in set_idx]\n",
    "    \n",
    "    return [filtered_smiles[i] for i in train_idx], [activities[i] for i in train_idx], \\\n",
    "           [filtered_smiles[i] for i in test_idx], [activities[i] for i in test_idx]\n",
    "\n",
    "train_smiles, train_activities, test_smiles, test_activities = scaffold_split(smiles, activities)"
   ]
  },
  {
   "cell_type": "code",
   "execution_count": 27,
   "metadata": {},
   "outputs": [
    {
     "name": "stdout",
     "output_type": "stream",
     "text": [
      "1234\n",
      "279\n"
     ]
    }
   ],
   "source": [
    "print(len(train_smiles))\n",
    "print(len(test_smiles))"
   ]
  },
  {
   "cell_type": "code",
   "execution_count": 28,
   "metadata": {},
   "outputs": [],
   "source": [
    "train_smiles, val_smiles, train_activities, val_activities = train_test_split(\n",
    "        train_smiles, train_activities, test_size=0.1, random_state=101)"
   ]
  },
  {
   "cell_type": "code",
   "execution_count": 29,
   "metadata": {},
   "outputs": [],
   "source": [
    "# Feature extraction\n",
    "def smiles_to_fp(smiles, fp_size=2048):\n",
    "    mol = Chem.MolFromSmiles(smiles)\n",
    "    mfpgen = rdFingerprintGenerator.GetMorganGenerator(radius=3, fpSize=fp_size)\n",
    "    return np.array(mfpgen.GetFingerprint(mol))\n",
    "\n",
    "# Dataset class\n",
    "class MoleculeDataset(Dataset):\n",
    "    def __init__(self, smiles, activities):\n",
    "        self.smiles = smiles\n",
    "        self.activities = activities\n",
    "        self.fingerprints = [smiles_to_fp(s) for s in smiles]\n",
    "        \n",
    "    def __len__(self):\n",
    "        return len(self.smiles)\n",
    "    \n",
    "    def __getitem__(self, idx):\n",
    "        fp = torch.tensor(self.fingerprints[idx], dtype=torch.float32)\n",
    "        activity = torch.tensor([self.activities[idx]], dtype=torch.float32)\n",
    "        return fp, activity\n",
    "\n",
    "# Create datasets and dataloaders\n",
    "train_dataset = MoleculeDataset(train_smiles, train_activities)\n",
    "val_dataset = MoleculeDataset(val_smiles, val_activities)\n",
    "test_dataset = MoleculeDataset(test_smiles, test_activities)\n",
    "\n",
    "train_loader = DataLoader(train_dataset, batch_size=32, shuffle=True)\n",
    "val_loader = DataLoader(val_dataset, batch_size=32, shuffle=False)\n",
    "test_loader = DataLoader(test_dataset, batch_size=32, shuffle=False)"
   ]
  },
  {
   "cell_type": "code",
   "execution_count": 69,
   "metadata": {},
   "outputs": [
    {
     "name": "stderr",
     "output_type": "stream",
     "text": [
      "/N/u/abseal/Quartz/.local/lib/python3.11/site-packages/torch/optim/lr_scheduler.py:60: UserWarning: The verbose parameter is deprecated. Please use get_last_lr() to access the learning rate.\n",
      "  warnings.warn(\n"
     ]
    }
   ],
   "source": [
    "# Neural Network model\n",
    "class _sar_nn(nn.Module):\n",
    "    def __init__(self, input_size=2048):\n",
    "        super(_sar_nn, self).__init__()\n",
    "        self.fc1 = nn.Linear(input_size, 512)\n",
    "        self.fc2 = nn.Linear(512, 256)\n",
    "        self.fc3 = nn.Linear(256, 128)\n",
    "        self.fc4 = nn.Linear(128, 1)\n",
    "        self.relu = nn.ReLU()\n",
    "        self.dropout = nn.Dropout(0.1)\n",
    "        \n",
    "    def forward(self, x):\n",
    "        x = self.dropout(self.relu(self.fc1(x)))\n",
    "        x = self.dropout(self.relu(self.fc2(x)))\n",
    "        x = self.dropout(self.relu(self.fc3(x)))\n",
    "        x = self.fc4(x)\n",
    "        return x\n",
    "\n",
    "# Initialize model, loss function, and optimizer\n",
    "device = torch.device('cuda' if torch.cuda.is_available() else 'cpu')\n",
    "model = _sar_nn().to(device)\n",
    "criterion = nn.MSELoss()\n",
    "optimizer = optim.Adam(model.parameters(), lr=0.005)\n",
    "\n",
    "# Learning rate scheduler\n",
    "scheduler = ReduceLROnPlateau(optimizer, mode='min', factor=0.5, patience=5, verbose=True)"
   ]
  },
  {
   "cell_type": "code",
   "execution_count": 70,
   "metadata": {},
   "outputs": [
    {
     "name": "stdout",
     "output_type": "stream",
     "text": [
      "_sar_nn(\n",
      "  (fc1): Linear(in_features=2048, out_features=512, bias=True)\n",
      "  (fc2): Linear(in_features=512, out_features=256, bias=True)\n",
      "  (fc3): Linear(in_features=256, out_features=128, bias=True)\n",
      "  (fc4): Linear(in_features=128, out_features=1, bias=True)\n",
      "  (relu): ReLU()\n",
      "  (dropout): Dropout(p=0.1, inplace=False)\n",
      ")\n"
     ]
    }
   ],
   "source": [
    "print(model)"
   ]
  },
  {
   "cell_type": "code",
   "execution_count": 76,
   "metadata": {},
   "outputs": [
    {
     "name": "stdout",
     "output_type": "stream",
     "text": [
      "1213441\n",
      "=================================\n",
      "Parameter containing:\n",
      "tensor([[-0.0090,  0.0080, -0.0106,  ...,  0.0211,  0.0161, -0.0079],\n",
      "        [ 0.0105, -0.0079,  0.0183,  ..., -0.0017, -0.0057,  0.0189],\n",
      "        [ 0.0123,  0.0194, -0.0038,  ..., -0.0143, -0.0024, -0.0188],\n",
      "        ...,\n",
      "        [-0.0148,  0.0093, -0.0062,  ..., -0.0201, -0.0015,  0.0030],\n",
      "        [-0.0018, -0.0028, -0.0163,  ..., -0.0050, -0.0161, -0.0206],\n",
      "        [ 0.0172,  0.0135,  0.0114,  ..., -0.0148,  0.0156, -0.0106]],\n",
      "       requires_grad=True)\n",
      "=================================\n",
      "torch.Size([512, 2048])\n"
     ]
    }
   ],
   "source": [
    "print(sum(p.numel() for p in model.parameters() if p.requires_grad))\n",
    "print(\"=================================\")\n",
    "\n",
    "print(list(model.parameters())[0])\n",
    "print(\"=================================\")\n",
    "print(list(model.parameters())[0].shape)"
   ]
  },
  {
   "cell_type": "code",
   "execution_count": 77,
   "metadata": {},
   "outputs": [
    {
     "name": "stdout",
     "output_type": "stream",
     "text": [
      "Epoch 1/100, Train Loss: 14.1207, Val Loss: 2.3467\n",
      "Epoch 2/100, Train Loss: 1.4416, Val Loss: 0.8694\n",
      "Epoch 3/100, Train Loss: 0.9326, Val Loss: 0.8525\n",
      "Epoch 4/100, Train Loss: 0.8310, Val Loss: 0.5759\n",
      "Epoch 5/100, Train Loss: 0.6784, Val Loss: 0.5732\n",
      "Epoch 6/100, Train Loss: 0.6396, Val Loss: 0.6659\n",
      "Epoch 7/100, Train Loss: 0.5487, Val Loss: 0.7529\n",
      "Epoch 8/100, Train Loss: 0.5714, Val Loss: 0.5421\n",
      "Epoch 9/100, Train Loss: 0.5232, Val Loss: 0.6253\n",
      "Epoch 10/100, Train Loss: 0.5412, Val Loss: 0.6938\n",
      "Epoch 11/100, Train Loss: 0.5994, Val Loss: 0.6602\n",
      "Epoch 12/100, Train Loss: 0.6896, Val Loss: 0.6147\n",
      "Epoch 13/100, Train Loss: 0.4395, Val Loss: 0.8329\n",
      "Epoch 14/100, Train Loss: 0.5491, Val Loss: 0.8329\n",
      "Epoch 15/100, Train Loss: 0.4944, Val Loss: 0.6129\n",
      "Epoch 16/100, Train Loss: 0.4286, Val Loss: 0.7893\n",
      "Epoch 17/100, Train Loss: 0.3910, Val Loss: 0.6554\n",
      "Epoch 18/100, Train Loss: 0.3540, Val Loss: 0.5647\n",
      "Epoch 19/100, Train Loss: 0.3747, Val Loss: 0.5653\n",
      "Epoch 20/100, Train Loss: 0.3681, Val Loss: 0.5799\n",
      "Epoch 21/100, Train Loss: 0.3070, Val Loss: 0.5788\n",
      "Epoch 22/100, Train Loss: 0.3051, Val Loss: 0.5619\n",
      "Epoch 23/100, Train Loss: 0.3266, Val Loss: 0.5968\n",
      "Epoch 24/100, Train Loss: 0.3066, Val Loss: 0.6036\n",
      "Epoch 25/100, Train Loss: 0.2949, Val Loss: 0.5575\n",
      "Epoch 26/100, Train Loss: 0.3122, Val Loss: 0.5966\n",
      "Epoch 27/100, Train Loss: 0.3082, Val Loss: 0.6342\n",
      "Epoch 28/100, Train Loss: 0.2677, Val Loss: 0.6150\n",
      "Epoch 29/100, Train Loss: 0.2946, Val Loss: 0.6128\n",
      "Epoch 30/100, Train Loss: 0.2854, Val Loss: 0.5845\n",
      "Epoch 31/100, Train Loss: 0.3136, Val Loss: 0.7290\n",
      "Epoch 32/100, Train Loss: 0.3104, Val Loss: 0.5571\n",
      "Epoch 33/100, Train Loss: 0.2776, Val Loss: 0.5870\n",
      "Epoch 34/100, Train Loss: 0.2832, Val Loss: 0.6262\n",
      "Epoch 35/100, Train Loss: 0.2814, Val Loss: 0.5935\n",
      "Epoch 36/100, Train Loss: 0.2731, Val Loss: 0.5765\n",
      "Epoch 37/100, Train Loss: 0.2704, Val Loss: 0.5886\n",
      "Epoch 38/100, Train Loss: 0.2509, Val Loss: 0.6006\n",
      "Epoch 39/100, Train Loss: 0.2823, Val Loss: 0.5618\n",
      "Epoch 40/100, Train Loss: 0.2526, Val Loss: 0.5847\n",
      "Epoch 41/100, Train Loss: 0.2876, Val Loss: 0.5578\n",
      "Epoch 42/100, Train Loss: 0.2482, Val Loss: 0.5724\n",
      "Epoch 43/100, Train Loss: 0.2547, Val Loss: 0.5660\n",
      "Epoch 44/100, Train Loss: 0.2755, Val Loss: 0.5805\n",
      "Epoch 45/100, Train Loss: 0.2544, Val Loss: 0.5655\n",
      "Epoch 46/100, Train Loss: 0.2477, Val Loss: 0.5654\n",
      "Epoch 47/100, Train Loss: 0.2600, Val Loss: 0.5603\n",
      "Epoch 48/100, Train Loss: 0.2482, Val Loss: 0.5670\n",
      "Epoch 49/100, Train Loss: 0.2440, Val Loss: 0.5597\n",
      "Epoch 50/100, Train Loss: 0.2627, Val Loss: 0.5741\n",
      "Epoch 51/100, Train Loss: 0.2287, Val Loss: 0.5607\n",
      "Epoch 52/100, Train Loss: 0.2456, Val Loss: 0.5606\n",
      "Epoch 53/100, Train Loss: 0.2670, Val Loss: 0.5757\n",
      "Epoch 54/100, Train Loss: 0.2406, Val Loss: 0.5638\n",
      "Epoch 55/100, Train Loss: 0.2466, Val Loss: 0.5558\n",
      "Epoch 56/100, Train Loss: 0.2453, Val Loss: 0.5608\n",
      "Epoch 57/100, Train Loss: 0.2635, Val Loss: 0.5566\n",
      "Epoch 58/100, Train Loss: 0.2341, Val Loss: 0.5632\n",
      "Epoch 59/100, Train Loss: 0.2629, Val Loss: 0.5620\n",
      "Epoch 60/100, Train Loss: 0.2732, Val Loss: 0.5601\n",
      "Epoch 61/100, Train Loss: 0.2523, Val Loss: 0.5587\n",
      "Epoch 62/100, Train Loss: 0.2318, Val Loss: 0.5606\n",
      "Epoch 63/100, Train Loss: 0.2457, Val Loss: 0.5558\n",
      "Epoch 64/100, Train Loss: 0.2387, Val Loss: 0.5542\n",
      "Epoch 65/100, Train Loss: 0.2442, Val Loss: 0.5546\n",
      "Epoch 66/100, Train Loss: 0.2421, Val Loss: 0.5642\n",
      "Epoch 67/100, Train Loss: 0.2667, Val Loss: 0.5587\n",
      "Epoch 68/100, Train Loss: 0.2478, Val Loss: 0.5606\n",
      "Epoch 69/100, Train Loss: 0.2592, Val Loss: 0.5603\n",
      "Epoch 70/100, Train Loss: 0.2457, Val Loss: 0.5601\n",
      "Epoch 71/100, Train Loss: 0.2406, Val Loss: 0.5582\n",
      "Epoch 72/100, Train Loss: 0.2535, Val Loss: 0.5645\n",
      "Epoch 73/100, Train Loss: 0.2746, Val Loss: 0.5605\n",
      "Epoch 74/100, Train Loss: 0.2379, Val Loss: 0.5589\n",
      "Epoch 75/100, Train Loss: 0.2381, Val Loss: 0.5595\n",
      "Epoch 76/100, Train Loss: 0.2600, Val Loss: 0.5610\n",
      "Epoch 77/100, Train Loss: 0.2315, Val Loss: 0.5608\n",
      "Epoch 78/100, Train Loss: 0.2371, Val Loss: 0.5625\n",
      "Epoch 79/100, Train Loss: 0.2716, Val Loss: 0.5624\n",
      "Epoch 80/100, Train Loss: 0.2587, Val Loss: 0.5610\n",
      "Epoch 81/100, Train Loss: 0.2669, Val Loss: 0.5619\n",
      "Epoch 82/100, Train Loss: 0.2557, Val Loss: 0.5626\n",
      "Epoch 83/100, Train Loss: 0.2609, Val Loss: 0.5619\n",
      "Epoch 84/100, Train Loss: 0.2448, Val Loss: 0.5618\n",
      "Epoch 85/100, Train Loss: 0.2455, Val Loss: 0.5615\n",
      "Epoch 86/100, Train Loss: 0.2480, Val Loss: 0.5616\n",
      "Epoch 87/100, Train Loss: 0.2518, Val Loss: 0.5615\n",
      "Epoch 88/100, Train Loss: 0.2312, Val Loss: 0.5608\n",
      "Epoch 89/100, Train Loss: 0.2413, Val Loss: 0.5607\n",
      "Epoch 90/100, Train Loss: 0.2346, Val Loss: 0.5607\n",
      "Epoch 91/100, Train Loss: 0.2537, Val Loss: 0.5605\n",
      "Epoch 92/100, Train Loss: 0.2474, Val Loss: 0.5605\n",
      "Epoch 93/100, Train Loss: 0.2458, Val Loss: 0.5608\n",
      "Epoch 94/100, Train Loss: 0.2608, Val Loss: 0.5607\n",
      "Epoch 95/100, Train Loss: 0.2454, Val Loss: 0.5608\n",
      "Epoch 96/100, Train Loss: 0.2557, Val Loss: 0.5609\n",
      "Epoch 97/100, Train Loss: 0.2566, Val Loss: 0.5611\n",
      "Epoch 98/100, Train Loss: 0.2551, Val Loss: 0.5612\n",
      "Epoch 99/100, Train Loss: 0.2497, Val Loss: 0.5610\n",
      "Epoch 100/100, Train Loss: 0.2279, Val Loss: 0.5610\n"
     ]
    }
   ],
   "source": [
    "# Training function\n",
    "def train_model(model, train_loader, val_loader, criterion, optimizer, scheduler, device, num_epochs=10):\n",
    "    model.train()\n",
    "    train_losses = []\n",
    "    val_losses = []\n",
    "    \n",
    "    for epoch in range(num_epochs):\n",
    "        running_loss = 0.0\n",
    "        for inputs, targets in train_loader:\n",
    "            inputs, targets = inputs.to(device), targets.to(device)\n",
    "            \n",
    "            optimizer.zero_grad()\n",
    "            outputs = model(inputs)\n",
    "            loss = criterion(outputs, targets)\n",
    "            loss.backward()\n",
    "            optimizer.step()\n",
    "            \n",
    "            running_loss += loss.item()\n",
    "        \n",
    "        train_loss = running_loss / len(train_loader)\n",
    "        train_losses.append(train_loss)\n",
    "        \n",
    "        # Validation step\n",
    "        model.eval()\n",
    "        val_loss = 0.0\n",
    "        with torch.no_grad():\n",
    "            for inputs, targets in val_loader:\n",
    "                inputs, targets = inputs.to(device), targets.to(device)\n",
    "                outputs = model(inputs)\n",
    "                loss = criterion(outputs, targets)\n",
    "                val_loss += loss.item()\n",
    "        \n",
    "        val_loss /= len(val_loader)\n",
    "        val_losses.append(val_loss)\n",
    "        \n",
    "        print(f'Epoch {epoch+1}/{num_epochs}, Train Loss: {train_loss:.4f}, Val Loss: {val_loss:.4f}')\n",
    "        \n",
    "        # Learning rate scheduler step\n",
    "        scheduler.step(val_loss)\n",
    "        \n",
    "        model.train()\n",
    "    \n",
    "    # Plot loss curves\n",
    "    plt.figure(figsize=(10, 5))\n",
    "    sns.lineplot(x=range(1, num_epochs+1), y=train_losses, label='Train Loss')\n",
    "    sns.lineplot(x=range(1, num_epochs+1), y=val_losses, label='Validation Loss')\n",
    "    plt.xlabel('Epoch')\n",
    "    plt.ylabel('Loss')\n",
    "    plt.legend()\n",
    "    plt.savefig('loss_curves_sns.png', bbox_inches='tight', dpi=600)\n",
    "    plt.savefig('loss_curves_sns.pdf', bbox_inches='tight', dpi=600);\n",
    "    plt.close()\n",
    "\n",
    "train_model(model, train_loader, val_loader, criterion, optimizer, scheduler, device, num_epochs=100)"
   ]
  },
  {
   "cell_type": "code",
   "execution_count": 78,
   "metadata": {},
   "outputs": [
    {
     "name": "stderr",
     "output_type": "stream",
     "text": [
      "2025-01-14 15:44:09,415 - WARNING - No artists with labels found to put in legend.  Note that artists whose label start with an underscore are ignored when legend() is called with no argument.\n"
     ]
    },
    {
     "name": "stdout",
     "output_type": "stream",
     "text": [
      "Test Loss: 0.7709\n",
      "Mean Squared Error: 0.7622\n",
      "Mean Absolute Error: 0.6555\n",
      "R-squared: 0.6078\n"
     ]
    },
    {
     "data": {
      "image/png": "[encoded data removed]",
      "text/plain": [
       "<Figure size 1000x1000 with 1 Axes>"
      ]
     },
     "metadata": {},
     "output_type": "display_data"
    }
   ],
   "source": [
    "# Evaluation function\n",
    "def evaluate_model(model, test_loader, criterion, device):\n",
    "    model.eval()\n",
    "    total_loss = 0.0\n",
    "    predictions = []\n",
    "    actuals = []\n",
    "    with torch.no_grad():\n",
    "        for inputs, targets in test_loader:\n",
    "            inputs, targets = inputs.to(device), targets.to(device)\n",
    "            outputs = model(inputs)\n",
    "            loss = criterion(outputs, targets)\n",
    "            total_loss += loss.item()\n",
    "            predictions.extend(outputs.cpu().numpy())\n",
    "            actuals.extend(targets.cpu().numpy())\n",
    "    \n",
    "    predictions = np.array(predictions).flatten()\n",
    "    actuals = np.array(actuals).flatten()\n",
    "    \n",
    "    mse = mean_squared_error(actuals, predictions)\n",
    "    mae = mean_absolute_error(actuals, predictions)\n",
    "    r2 = np.corrcoef(predictions, actuals)[0, 1]**2\n",
    "    \n",
    "    print(f'Test Loss: {total_loss/len(test_loader):.4f}')\n",
    "    print(f'Mean Squared Error: {mse:.4f}')\n",
    "    print(f'Mean Absolute Error: {mae:.4f}')\n",
    "    print(f'R-squared: {r2:.4f}')\n",
    "\n",
    "    fig = plt.figure(figsize=(10, 10))\n",
    "    ax = fig.add_subplot(111)\n",
    "    ax.scatter(actuals, predictions, alpha=0.8, color=\"#6C8EBF\")\n",
    "    ax.plot([actuals.min(), actuals.max()], [actuals.min(), actuals.max()], '--', lw=3)\n",
    "    ax.set_xlabel(\"Actual Values\", fontsize=18)\n",
    "    ax.set_ylabel(\"Predicted Values\", fontsize=18)\n",
    "    ax.set_xlim([3, 11])\n",
    "    ax.set_ylim([3, 11])\n",
    "    ax.legend(loc=\"best\")\n",
    "    plt.tight_layout()\n",
    "    plt.savefig('bvs_scatter.png', bbox_inches='tight', dpi=600)\n",
    "    plt.savefig('lbvs_scatter.pdf', bbox_inches='tight', dpi=600);\n",
    "\n",
    "evaluate_model(model, test_loader, criterion, device)"
   ]
  },
  {
   "cell_type": "code",
   "execution_count": 80,
   "metadata": {},
   "outputs": [
    {
     "name": "stdout",
     "output_type": "stream",
     "text": [
      "Model saved successfully.\n"
     ]
    }
   ],
   "source": [
    "# Save the trained model\n",
    "torch.save(model.state_dict(), 'bace_model.pth')\n",
    "print(\"Model saved successfully.\")"
   ]
  },
  {
   "cell_type": "code",
   "execution_count": 60,
   "metadata": {},
   "outputs": [
    {
     "name": "stderr",
     "output_type": "stream",
     "text": [
      "/tmp/ipykernel_3593624/2066391550.py:2: FutureWarning: You are using `torch.load` with `weights_only=False` (the current default value), which uses the default pickle module implicitly. It is possible to construct malicious pickle data which will execute arbitrary code during unpickling (See https://github.com/pytorch/pytorch/blob/main/SECURITY.md#untrusted-models for more details). In a future release, the default value for `weights_only` will be flipped to `True`. This limits the functions that could be executed during unpickling. Arbitrary objects will no longer be allowed to be loaded via this mode unless they are explicitly allowlisted by the user via `torch.serialization.add_safe_globals`. We recommend you start setting `weights_only=True` for any use case where you don't have full control of the loaded file. Please open an issue on GitHub for any issues related to this experimental feature.\n",
      "  loaded_model.load_state_dict(torch.load('bace_model.pth'))\n"
     ]
    },
    {
     "data": {
      "text/plain": [
       "KinaseBinderNN(\n",
       "  (fc1): Linear(in_features=2048, out_features=512, bias=True)\n",
       "  (fc2): Linear(in_features=512, out_features=256, bias=True)\n",
       "  (fc3): Linear(in_features=256, out_features=128, bias=True)\n",
       "  (fc4): Linear(in_features=128, out_features=1, bias=True)\n",
       "  (relu): ReLU()\n",
       "  (dropout): Dropout(p=0.1, inplace=False)\n",
       ")"
      ]
     },
     "execution_count": 60,
     "metadata": {},
     "output_type": "execute_result"
    }
   ],
   "source": [
    "loaded_model = _sar_nn()\n",
    "loaded_model.load_state_dict(torch.load('bace_model.pth'))\n",
    "loaded_model.eval()  # Set the model to evaluation mode"
   ]
  },
  {
   "cell_type": "markdown",
   "metadata": {},
   "source": [
    "### Enrichment Factors in Virtual Screening"
   ]
  },
  {
   "cell_type": "code",
   "execution_count": 61,
   "metadata": {},
   "outputs": [],
   "source": [
    "def evaluate_model_enrichment(model, test_loader, criterion, device, activity_threshold=6.3):\n",
    "    model.eval()\n",
    "    total_loss = 0.0\n",
    "    predictions = []\n",
    "    actuals = []\n",
    "    with torch.no_grad():\n",
    "        for inputs, targets in test_loader:\n",
    "            inputs, targets = inputs.to(device), targets.to(device)\n",
    "            outputs = model(inputs)\n",
    "            loss = criterion(outputs, targets)\n",
    "            total_loss += loss.item()\n",
    "            predictions.extend(outputs.cpu().numpy())\n",
    "            actuals.extend(targets.cpu().numpy())\n",
    "    \n",
    "    predictions = np.array(predictions).flatten()\n",
    "    actuals = np.array(actuals).flatten()\n",
    "    \n",
    "    mse = mean_squared_error(actuals, predictions)\n",
    "    mae = mean_absolute_error(actuals, predictions)\n",
    "    r2 = np.corrcoef(predictions, actuals)[0, 1]**2\n",
    "    \n",
    "    logger.info(f'Test Loss: {total_loss/len(test_loader):.4f}')\n",
    "    logger.info(f'Mean Squared Error: {mse:.4f}')\n",
    "    logger.info(f'Mean Absolute Error: {mae:.4f}')\n",
    "    logger.info(f'R-squared: {r2:.4f}')\n",
    "\n",
    "    return predictions, actuals"
   ]
  },
  {
   "cell_type": "code",
   "execution_count": 67,
   "metadata": {
    "scrolled": true
   },
   "outputs": [
    {
     "name": "stderr",
     "output_type": "stream",
     "text": [
      "2025-01-14 15:37:24,298 - INFO - Test Loss: 0.7613\n",
      "2025-01-14 15:37:24,300 - INFO - Mean Squared Error: 0.7542\n",
      "2025-01-14 15:37:24,301 - INFO - Mean Absolute Error: 0.6609\n",
      "2025-01-14 15:37:24,308 - INFO - R-squared: 0.6162\n"
     ]
    },
    {
     "name": "stdout",
     "output_type": "stream",
     "text": [
      "Enrichment Factors:\n",
      "EF0.5%:\n",
      "  Model:  1.52\n",
      "  Optimal: 1.52\n",
      "  Random:  1.00\n",
      "EF1.0%:\n",
      "  Model:  1.52\n",
      "  Optimal: 1.52\n",
      "  Random:  1.00\n",
      "EF2.0%:\n",
      "  Model:  1.52\n",
      "  Optimal: 1.52\n",
      "  Random:  1.00\n",
      "EF5.0%:\n",
      "  Model:  1.52\n",
      "  Optimal: 1.52\n",
      "  Random:  1.00\n",
      "EF50.0%:\n",
      "  Model:  1.40\n",
      "  Optimal: 1.52\n",
      "  Random:  1.00\n",
      "Found actives (%) for top 5% of ranked data set:\n",
      "  Model:  7.62\n",
      "  Optimal:  7.62\n",
      "  Random:  5.00\n"
     ]
    },
    {
     "data": {
      "image/png": "[encoded data removed]",
      "text/plain": [
       "<Figure size 1200x900 with 1 Axes>"
      ]
     },
     "metadata": {},
     "output_type": "display_data"
    }
   ],
   "source": [
    "from sklearn.metrics import roc_curve, auc\n",
    "\n",
    "def create_enrichment_plot(y_true, y_pred, activity_threshold=6.3, ef_percentages=[0.005, 0.01, 0.02, 0.05]):\n",
    "    # Convert continuous predictions to binary (active/inactive)\n",
    "    y_true_binary = (y_true >= activity_threshold).astype(int)\n",
    "    \n",
    "    # Calculate ROC curve\n",
    "    fpr, tpr, _ = roc_curve(y_true_binary, y_pred)\n",
    "    roc_auc = auc(fpr, tpr)\n",
    "    \n",
    "    # Calculate enrichment curve\n",
    "    sorted_indices = np.argsort(y_pred)[::-1]\n",
    "    n_actives = np.sum(y_true_binary)\n",
    "    n_total = len(y_true_binary)\n",
    "    \n",
    "    x_values = np.linspace(0, 1, n_total)\n",
    "    y_values = np.cumsum(y_true_binary[sorted_indices]) / n_actives\n",
    "    \n",
    "    # Set up the plot style\n",
    "    sns.set_style(\"ticks\")\n",
    "    plt.figure(figsize=(12, 9))\n",
    "    \n",
    "    # Plot enrichment curve\n",
    "    sns.lineplot(x=x_values, y=y_values, label='Model Performance', linewidth=3)\n",
    "    sns.lineplot(x=[0, 1], y=[0, 1], label='Random', linestyle='--', linewidth=3)\n",
    "    sns.lineplot(x=[0, n_actives/n_total, 1], y=[0, 1, 1], label='Optimal', linestyle=':', linewidth=3)\n",
    "    sns.despine()\n",
    "\n",
    "    # Add dots for EF percentages\n",
    "    for percentage in ef_percentages:\n",
    "        index = int(n_total * percentage)\n",
    "        plt.plot(percentage, y_values[index], 'o', markersize=10, \n",
    "                 markerfacecolor='white', markeredgecolor='#A20025', markeredgewidth=3)\n",
    "        plt.annotate(f'{percentage*100:.1f}%', (percentage, y_values[index]), \n",
    "                     xytext=(15, 3), textcoords='offset points', fontsize=14)\n",
    "    \n",
    "    plt.xlabel('Fraction of Screened Library', fontsize=16)\n",
    "    plt.ylabel('Fraction of Actives Found', fontsize=16)\n",
    "    plt.title(f'Enrichment Plot (AUC = {roc_auc:.3f})', fontsize=16)\n",
    "    plt.legend(fontsize=14)\n",
    "    \n",
    "    # Adjust plot limits and ticks\n",
    "    plt.xlim(-0.01, 1.01)\n",
    "    plt.ylim(-0.01, 1.01)\n",
    "    plt.xticks(fontsize=14)\n",
    "    plt.yticks(fontsize=14)\n",
    "    plt.savefig('enrichment_plot.png', bbox_inches='tight', dpi=600)\n",
    "    plt.savefig('enrichment_plot.pdf', bbox_inches='tight', dpi=600)\n",
    "    return plt\n",
    "\n",
    "def calculate_enrichment_factors(y_true, y_pred, activity_threshold=6.3, ef_percentages=[0.005, 0.01, 0.02, 0.05]):\n",
    "    y_true_binary = (y_true >= activity_threshold).astype(int)\n",
    "    sorted_indices = np.argsort(y_pred)[::-1]\n",
    "    n_actives = np.sum(y_true_binary)\n",
    "    n_total = len(y_true_binary)\n",
    "    \n",
    "    enrichment_factors = {}\n",
    "    for percentage in ef_percentages:\n",
    "        n_compounds = int(n_total * percentage)\n",
    "\n",
    "        # Model performance\n",
    "        n_actives_found = np.sum(y_true_binary[sorted_indices[:n_compounds]])\n",
    "        ef_model = (n_actives_found / n_compounds) / (n_actives / n_total)\n",
    "        \n",
    "        # Optimal performance (all actives at the top)\n",
    "        ef_optimal = min(1 / percentage, n_total / n_actives)\n",
    "        \n",
    "        # Random performance\n",
    "        ef_random = 1.0  # By definition, random selection has an enrichment factor of 1\n",
    "        \n",
    "        enrichment_factors[f\"EF{percentage*100:.1f}%\"] = {\n",
    "            \"Model\": ef_model,\n",
    "            \"Optimal\": ef_optimal,\n",
    "            \"Random\": ef_random\n",
    "        }\n",
    "    \n",
    "    return enrichment_factors\n",
    "\n",
    "predictions, actuals = evaluate_model_enrichment(loaded_model, test_loader, criterion, device)\n",
    "\n",
    "# Calculate and print enrichment factors\n",
    "ef_percentages=[0.005, 0.01, 0.02, 0.05, 0.5]\n",
    "ef = calculate_enrichment_factors(actuals, predictions, ef_percentages=ef_percentages)\n",
    "\n",
    "# Create and show enrichment plot\n",
    "plt = create_enrichment_plot(actuals, predictions, ef_percentages=[0.01, 0.05, 0.5])\n",
    "\n",
    "print(\"Enrichment Factors:\")\n",
    "for k, v in ef.items():\n",
    "    print(f\"{k}:\")\n",
    "    print(f\"  Model:  {v['Model']:.2f}\")\n",
    "    print(f\"  Optimal: {v['Optimal']:.2f}\")\n",
    "    print(f\"  Random:  {v['Random']:.2f}\")\n",
    "\n",
    "print(\"Found actives (%) for top 5% of ranked data set:\")\n",
    "for k, v in ef[\"EF5.0%\"].items():\n",
    "    print(f\"  {k}:  {v * 5:.2f}\")"
   ]
  },
  {
   "cell_type": "code",
   "execution_count": 65,
   "metadata": {},
   "outputs": [
    {
     "data": {
      "text/plain": [
       "{'EF0.5%': {'Model': 1.5245901639344264,\n",
       "  'Optimal': 1.5245901639344261,\n",
       "  'Random': 1.0},\n",
       " 'EF1.0%': {'Model': 1.5245901639344264,\n",
       "  'Optimal': 1.5245901639344261,\n",
       "  'Random': 1.0},\n",
       " 'EF2.0%': {'Model': 1.5245901639344264,\n",
       "  'Optimal': 1.5245901639344261,\n",
       "  'Random': 1.0},\n",
       " 'EF5.0%': {'Model': 1.5245901639344264,\n",
       "  'Optimal': 1.5245901639344261,\n",
       "  'Random': 1.0},\n",
       " 'EF50.0%': {'Model': 1.4039391437669537,\n",
       "  'Optimal': 1.5245901639344261,\n",
       "  'Random': 1.0}}"
      ]
     },
     "execution_count": 65,
     "metadata": {},
     "output_type": "execute_result"
    }
   ],
   "source": [
    "ef"
   ]
  }
 ],
 "metadata": {
  "kernelspec": {
   "display_name": "Python 3 (ipykernel)",
   "language": "python",
   "name": "python3"
  },
  "language_info": {
   "codemirror_mode": {
    "name": "ipython",
    "version": 3
   },
   "file_extension": ".py",
   "mimetype": "text/x-python",
   "name": "python",
   "nbconvert_exporter": "python",
   "pygments_lexer": "ipython3",
   "version": "3.11.4"
  }
 },
 "nbformat": 4,
 "nbformat_minor": 2
}
